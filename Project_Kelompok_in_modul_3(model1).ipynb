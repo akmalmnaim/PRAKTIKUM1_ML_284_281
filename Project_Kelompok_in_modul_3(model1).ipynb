{
 "cells": [
  {
   "cell_type": "code",
   "execution_count": 6,
   "metadata": {
    "colab": {
     "base_uri": "https://localhost:8080/"
    },
    "id": "_P6zxyGCfUUY",
    "outputId": "1933889f-7b1d-41d8-b054-27eebce13067"
   },
   "outputs": [
    {
     "name": "stdout",
     "output_type": "stream",
     "text": [
      "Drive already mounted at /content/gdrive; to attempt to forcibly remount, call drive.mount(\"/content/gdrive\", force_remount=True).\n"
     ]
    }
   ],
   "source": [
    "from google.colab import drive\n",
    "\n",
    "drive.mount('/content/gdrive')"
   ]
  },
  {
   "cell_type": "code",
   "execution_count": 7,
   "metadata": {
    "colab": {
     "base_uri": "https://localhost:8080/"
    },
    "id": "J025z7itfbeS",
    "outputId": "d0159a51-17c0-46cf-8b90-d8021688f8d9"
   },
   "outputs": [
    {
     "name": "stdout",
     "output_type": "stream",
     "text": [
      "[Errno 2] No such file or directory: 'gdrive/MyDrive/Praktikum ML/Project Kelompok'\n",
      "/content/gdrive/MyDrive/Praktikum ML/Project Kelompok\n"
     ]
    }
   ],
   "source": [
    "cd gdrive/MyDrive/Praktikum ML/Project Kelompok"
   ]
  },
  {
   "cell_type": "code",
   "execution_count": null,
   "metadata": {
    "colab": {
     "base_uri": "https://localhost:8080/",
     "height": 89,
     "resources": {
      "http://localhost:8080/nbextensions/google.colab/files.js": {
       "data": "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",
       "headers": [
        [
         "content-type",
         "application/javascript"
        ]
       ],
       "ok": true,
       "status": 200,
       "status_text": ""
      }
     }
    },
    "id": "B1wdrmSFfo-o",
    "outputId": "928b7b59-f4cf-46b5-d760-fdda463b30ad"
   },
   "outputs": [
    {
     "data": {
      "text/html": [
       "\n",
       "     <input type=\"file\" id=\"files-dba434f6-1963-4e10-bae3-980b2f6d93f8\" name=\"files[]\" multiple disabled\n",
       "        style=\"border:none\" />\n",
       "     <output id=\"result-dba434f6-1963-4e10-bae3-980b2f6d93f8\">\n",
       "      Upload widget is only available when the cell has been executed in the\n",
       "      current browser session. Please rerun this cell to enable.\n",
       "      </output>\n",
       "      <script src=\"/nbextensions/google.colab/files.js\"></script> "
      ],
      "text/plain": [
       "<IPython.core.display.HTML object>"
      ]
     },
     "metadata": {},
     "output_type": "display_data"
    },
    {
     "name": "stdout",
     "output_type": "stream",
     "text": [
      "Saving kaggle.json to kaggle.json\n"
     ]
    },
    {
     "data": {
      "text/plain": [
       "{'kaggle.json': b'{\"username\":\"qhistinj\",\"key\":\"f709ed7ce69d920f8a14f668fff276cd\"}'}"
      ]
     },
     "execution_count": 3,
     "metadata": {},
     "output_type": "execute_result"
    }
   ],
   "source": [
    "from google.colab import files\n",
    "files.upload()"
   ]
  },
  {
   "cell_type": "code",
   "execution_count": null,
   "metadata": {
    "id": "E0H-RFGJfxJ5"
   },
   "outputs": [],
   "source": [
    "!mkdir .kaggle"
   ]
  },
  {
   "cell_type": "code",
   "execution_count": null,
   "metadata": {
    "id": "0jMUvMJzf5O5"
   },
   "outputs": [],
   "source": [
    "!cp kaggle.json /.kaggle"
   ]
  },
  {
   "cell_type": "code",
   "execution_count": null,
   "metadata": {
    "colab": {
     "base_uri": "https://localhost:8080/"
    },
    "id": "q1UwDEDpgLt9",
    "outputId": "ea0a0d34-0089-476a-c2f4-07eec1ba6452"
   },
   "outputs": [
    {
     "name": "stdout",
     "output_type": "stream",
     "text": [
      "kaggle.json\n"
     ]
    }
   ],
   "source": [
    "ls"
   ]
  },
  {
   "cell_type": "code",
   "execution_count": null,
   "metadata": {
    "id": "lizW896Hn05x"
   },
   "outputs": [],
   "source": [
    "! pip install -q kaggle"
   ]
  },
  {
   "cell_type": "code",
   "execution_count": null,
   "metadata": {
    "id": "cx1Q5tYTn2gr"
   },
   "outputs": [],
   "source": [
    "!mkdir -p ~/.kaggle\n",
    "!cp kaggle.json ~/.kaggle/"
   ]
  },
  {
   "cell_type": "code",
   "execution_count": null,
   "metadata": {
    "id": "ilHvSjKXf77x"
   },
   "outputs": [],
   "source": [
    "api_token = {\"username\":\"akmalmnaim12\",\"key\":\"56eec82db5f45bfb0998ac4381f0633f\"}\n",
    "import json\n",
    "import zipfile\n",
    "import os\n",
    "with open('/root/.kaggle/kaggle.json', 'w') as file:\n",
    "    json.dump(api_token, file)\n",
    "!chmod 600 /root/.kaggle/kaggle.json"
   ]
  },
  {
   "cell_type": "code",
   "execution_count": null,
   "metadata": {
    "colab": {
     "base_uri": "https://localhost:8080/"
    },
    "id": "cu-AjrL-f_uB",
    "outputId": "d027f001-7722-4d60-e2bb-9ca4bfd278f1"
   },
   "outputs": [
    {
     "name": "stdout",
     "output_type": "stream",
     "text": [
      "Downloading chest-xray-pneumonia.zip to /content/gdrive/My Drive/Praktikum ML/Project Kelompok\n",
      "100% 2.29G/2.29G [00:29<00:00, 106MB/s]\n",
      "100% 2.29G/2.29G [00:29<00:00, 83.3MB/s]\n"
     ]
    }
   ],
   "source": [
    "!kaggle datasets download -d paultimothymooney/chest-xray-pneumonia"
   ]
  },
  {
   "cell_type": "code",
   "execution_count": null,
   "metadata": {
    "colab": {
     "base_uri": "https://localhost:8080/"
    },
    "id": "RLpWMLhyhWg8",
    "outputId": "f82d58b6-8cc8-4810-c8e5-464df1827cbd"
   },
   "outputs": [
    {
     "name": "stdout",
     "output_type": "stream",
     "text": [
      "chest-xray-pneumonia.zip  kaggle.json\n"
     ]
    }
   ],
   "source": [
    "ls"
   ]
  },
  {
   "cell_type": "code",
   "execution_count": 1,
   "metadata": {
    "id": "Vt7GMrjWKT3c"
   },
   "outputs": [],
   "source": [
    "import os\n",
    "import zipfile\n"
   ]
  },
  {
   "cell_type": "code",
   "execution_count": null,
   "metadata": {
    "id": "6HoNWoYXg5S3"
   },
   "outputs": [],
   "source": [
    "\n",
    "local_zip = 'chest-xray-pneumonia.zip'\n",
    "zip_ref = zipfile.ZipFile(local_zip, 'r')\n",
    "zip_ref.extractall('')\n",
    "zip_ref.close()"
   ]
  },
  {
   "cell_type": "code",
   "execution_count": null,
   "metadata": {
    "colab": {
     "base_uri": "https://localhost:8080/"
    },
    "id": "CQz-0GyhihIy",
    "outputId": "f2de748c-c01d-4163-997b-89924b274f03"
   },
   "outputs": [
    {
     "name": "stdout",
     "output_type": "stream",
     "text": [
      "\u001b[0m\u001b[01;34mchest_xray\u001b[0m/  chest-xray-pneumonia.zip  kaggle.json\n"
     ]
    }
   ],
   "source": [
    "ls"
   ]
  },
  {
   "cell_type": "code",
   "execution_count": null,
   "metadata": {
    "id": "NUwhH8OqhbVv"
   },
   "outputs": [],
   "source": [
    "base_dir = 'chest_xray'\n",
    "\n",
    "train_dir = os.path.join(base_dir, 'train')\n",
    "val_dir = os.path.join(base_dir, 'val')\n",
    "test_dir = os.path.join(base_dir, 'test')\n",
    "\n",
    "train_normal_dir = os.path.join(train_dir, 'NORMAL')\n",
    "train_pneumonia_dir = os.path.join(train_dir, 'PNEUMONIA')\n",
    "\n",
    "val_normal_dir = os.path.join(val_dir, 'NORMAL')\n",
    "val_pneumonia_dir = os.path.join(val_dir, 'PNEUMONIA')\n",
    "\n",
    "test_normal_dir = os.path.join(test_dir, 'NORMAL')\n",
    "test_pneumonia_dir = os.path.join(test_dir, 'PNEUMONIA')"
   ]
  },
  {
   "cell_type": "code",
   "execution_count": null,
   "metadata": {
    "id": "wKvxBdcdc61D"
   },
   "outputs": [],
   "source": [
    "#moving all dataset to training\n",
    "import shutil\n",
    "\n",
    "dataset1= os.listdir(val_normal_dir)\n",
    "for file in dataset1:\n",
    "  new_path = shutil.move(f\"{val_normal_dir}/{file}\",train_normal_dir)\n",
    "\n",
    "dataset2= Pr_dataset1= os.listdir(val_pneumonia_dir)\n",
    "for file in dataset2:\n",
    "  new_path = shutil.move(f\"{val_pneumonia_dir}/{file}\",train_pneumonia_dir)\n",
    "\n",
    "dataset3= Pr_dataset1= os.listdir(test_normal_dir)\n",
    "for file in dataset3:\n",
    "  new_path = shutil.move(f\"{test_normal_dir}/{file}\",train_normal_dir)\n",
    "\n",
    "dataset4= Pr_dataset1= os.listdir(test_pneumonia_dir)\n",
    "for file in dataset4:\n",
    "  new_path = shutil.move(f\"{test_pneumonia_dir}/{file}\",train_pneumonia_dir)"
   ]
  },
  {
   "cell_type": "code",
   "execution_count": null,
   "metadata": {
    "colab": {
     "base_uri": "https://localhost:8080/"
    },
    "id": "46kGZ5GnjEcI",
    "outputId": "f97449f1-6a78-43da-a6e8-9dfb3ce86c5c"
   },
   "outputs": [
    {
     "name": "stdout",
     "output_type": "stream",
     "text": [
      "['IM-0001-0001.jpeg', 'IM-0003-0001.jpeg', 'IM-0005-0001.jpeg', 'IM-0006-0001.jpeg', 'IM-0007-0001.jpeg', 'IM-0009-0001.jpeg', 'IM-0010-0001.jpeg', 'IM-0011-0001-0001.jpeg', 'IM-0011-0001-0002.jpeg', 'IM-0011-0001.jpeg']\n",
      "['person100_bacteria_475.jpeg', 'person100_bacteria_477.jpeg', 'person100_bacteria_478.jpeg', 'person100_bacteria_479.jpeg', 'person100_bacteria_480.jpeg', 'person100_bacteria_481.jpeg', 'person100_bacteria_482.jpeg', 'person101_bacteria_483.jpeg', 'person101_bacteria_484.jpeg', 'person101_bacteria_485.jpeg']\n"
     ]
    }
   ],
   "source": [
    "# Cek penamaan image yang ada di folder train_normal_dir dan train_pneumonia_dir\n",
    "print(os.listdir(train_normal_dir)[:10])\n",
    "print(os.listdir(train_pneumonia_dir)[:10])"
   ]
  },
  {
   "cell_type": "code",
   "execution_count": null,
   "metadata": {
    "colab": {
     "base_uri": "https://localhost:8080/"
    },
    "id": "o4yCdcbtjVEI",
    "outputId": "be0a13a0-a883-463a-fd98-d2cda22ac255"
   },
   "outputs": [
    {
     "name": "stdout",
     "output_type": "stream",
     "text": [
      "total training normal images: 1583\n",
      "total training pneumonia images: 4273\n",
      "total val normal images: 0\n",
      "total val pneumonia images: 0\n",
      "total test normal images: 0\n",
      "total test pneumonia images: 0\n"
     ]
    }
   ],
   "source": [
    "# Cek jumlah data train dan data validation\n",
    "print('total training normal images:', len(os.listdir(train_normal_dir)))\n",
    "print('total training pneumonia images:', len(os.listdir(train_pneumonia_dir)))\n",
    "print('total val normal images:', len(os.listdir(val_normal_dir)))\n",
    "print('total val pneumonia images:', len(os.listdir(val_pneumonia_dir)))\n",
    "print('total test normal images:', len(os.listdir(test_normal_dir)))\n",
    "print('total test pneumonia images:', len(os.listdir(test_pneumonia_dir)))"
   ]
  },
  {
   "cell_type": "code",
   "execution_count": null,
   "metadata": {
    "id": "I8A2bLhREP5k"
   },
   "outputs": [],
   "source": [
    "os.makedirs('output')"
   ]
  },
  {
   "cell_type": "code",
   "execution_count": 1,
   "metadata": {
    "colab": {
     "base_uri": "https://localhost:8080/"
    },
    "id": "pTWXKvNnEXgg",
    "outputId": "8477bdbf-70d0-4466-e5c6-0961a8d68ebd"
   },
   "outputs": [
    {
     "name": "stdout",
     "output_type": "stream",
     "text": [
      "Collecting split-folders\n",
      "  Downloading split_folders-0.4.3-py3-none-any.whl (7.4 kB)\n",
      "Installing collected packages: split-folders\n",
      "Successfully installed split-folders-0.4.3\n",
      "Note: you may need to restart the kernel to use updated packages.\n"
     ]
    }
   ],
   "source": [
    "pip install split-folders"
   ]
  },
  {
   "cell_type": "code",
   "execution_count": null,
   "metadata": {
    "colab": {
     "base_uri": "https://localhost:8080/"
    },
    "id": "2GhrRaixepDO",
    "outputId": "cbf8117e-3824-49be-a226-34307dea8009"
   },
   "outputs": [
    {
     "name": "stderr",
     "output_type": "stream",
     "text": [
      "Copying files: 5856 files [02:12, 44.03 files/s]\n"
     ]
    }
   ],
   "source": [
    "import splitfolders\n",
    "\n",
    "splitfolders.ratio(train_dir, output=\"output\", seed=1337, ratio=(.8, .19, .01), group_prefix=None) # default values\n"
   ]
  },
  {
   "cell_type": "code",
   "execution_count": 5,
   "metadata": {
    "id": "IpLTleSbL12d"
   },
   "outputs": [],
   "source": [
    "base_dir = 'output'\n",
    "\n",
    "train_dir = os.path.join(base_dir, 'train')\n",
    "val_dir = os.path.join(base_dir, 'val')\n",
    "test_dir = os.path.join(base_dir, 'test')\n",
    "\n",
    "train_normal_dir = os.path.join(train_dir, 'NORMAL')\n",
    "train_pneumonia_dir = os.path.join(train_dir, 'PNEUMONIA')\n",
    "\n",
    "val_normal_dir = os.path.join(val_dir, 'NORMAL')\n",
    "val_pneumonia_dir = os.path.join(val_dir, 'PNEUMONIA')\n",
    "\n",
    "test_normal_dir = os.path.join(test_dir, 'NORMAL')\n",
    "test_pneumonia_dir = os.path.join(test_dir, 'PNEUMONIA')\n",
    "\n",
    "# TULIS KODE ANDA DISINI\n",
    "# Definisikan path untuk data train test dan validation sesuai dengan path\n"
   ]
  },
  {
   "cell_type": "code",
   "execution_count": 10,
   "metadata": {
    "colab": {
     "base_uri": "https://localhost:8080/"
    },
    "id": "yMDq4vOYL5T_",
    "outputId": "a496e2a9-315b-4f97-c422-65cadb176687"
   },
   "outputs": [
    {
     "name": "stdout",
     "output_type": "stream",
     "text": [
      "total training normal images: 1266\n",
      "total training pneumonia images: 3418\n",
      "total val normal images: 300\n",
      "total val pneumonia images: 811\n",
      "total test normal images: 17\n",
      "total test pneumonia images: 44\n"
     ]
    }
   ],
   "source": [
    "print('total training normal images:', len(os.listdir(train_normal_dir)))\n",
    "print('total training pneumonia images:', len(os.listdir(train_pneumonia_dir)))\n",
    "print('total val normal images:', len(os.listdir(val_normal_dir)))\n",
    "print('total val pneumonia images:', len(os.listdir(val_pneumonia_dir)))\n",
    "print('total test normal images:', len(os.listdir(test_normal_dir)))\n",
    "print('total test pneumonia images:', len(os.listdir(test_pneumonia_dir)))"
   ]
  },
  {
   "cell_type": "code",
   "execution_count": 6,
   "metadata": {
    "id": "8OfwYWu0sjYU"
   },
   "outputs": [],
   "source": [
    "# TULIS KODE ANDA DISINI\n",
    "# Definisikan path untuk data train test dan validation sesuai dengan path\n",
    "\n",
    "import os\n",
    "\n",
    "train_path = os.path.join(base_dir, 'train')\n",
    "test_path  = os.path.join(base_dir, 'test')\n",
    "val_path   = os.path.join(base_dir, 'val')\n",
    "\n",
    "\n",
    "train_normal_dir = os.path.join(train_path, 'NORMAL')\n",
    "train_pneumonia_dir = os.path.join(train_path, 'PNEUMONIA')\n",
    "\n",
    "val_normal_dir = os.path.join(val_path, 'NORMAL')\n",
    "val_pneumonia_dir = os.path.join(val_path, 'PNEUMONIA')\n",
    "\n",
    "test_normal_dir = os.path.join(test_path, 'NORMAL')\n",
    "test_pneumonia_dir = os.path.join(test_path, 'PNEUMONIA')"
   ]
  },
  {
   "cell_type": "code",
   "execution_count": null,
   "metadata": {
    "colab": {
     "base_uri": "https://localhost:8080/",
     "height": 35
    },
    "id": "MaGJqiFC5L8C",
    "outputId": "c4020ece-747a-4d1c-b602-441599c6c406"
   },
   "outputs": [
    {
     "data": {
      "application/vnd.google.colaboratory.intrinsic+json": {
       "type": "string"
      },
      "text/plain": [
       "'output/train'"
      ]
     },
     "execution_count": 69,
     "metadata": {},
     "output_type": "execute_result"
    }
   ],
   "source": [
    "train_path"
   ]
  },
  {
   "cell_type": "code",
   "execution_count": 7,
   "metadata": {
    "id": "zAFH0xfk4xZp"
   },
   "outputs": [],
   "source": [
    "import cv2\n",
    "import numpy as np\n",
    "\n",
    "# Gather data train\n",
    "train_data = []\n",
    "train_label = []\n",
    "for r, d, f in os.walk(train_path):\n",
    "    for file in f:\n",
    "        if \".jpeg\" in file:\n",
    "            imagePath = os.path.join(r, file)\n",
    "            image = cv2.imread(imagePath)\n",
    "            image = cv2.resize(image, (224,224))\n",
    "            train_data.append(image)\n",
    "            label = imagePath.split(os.path.sep)[-2]\n",
    "            train_label.append(label)\n",
    "\n",
    "train_data = np.array(train_data)\n",
    "train_label = np.array(train_label)"
   ]
  },
  {
   "cell_type": "code",
   "execution_count": 8,
   "metadata": {
    "id": "dZ4sNQHq49sO"
   },
   "outputs": [],
   "source": [
    "val_data = []\n",
    "val_label = []\n",
    "for r, d, f in os.walk(val_path):\n",
    "    for file in f:\n",
    "        if \".jpeg\" in file:\n",
    "            imagePath = os.path.join(r, file)\n",
    "            image = cv2.imread(imagePath)\n",
    "            image = cv2.resize(image, (224,224))\n",
    "            val_data.append(image)\n",
    "            label = imagePath.split(os.path.sep)[-2]\n",
    "            val_label.append(label)\n",
    "\n",
    "val_data = np.array(val_data)\n",
    "val_label = np.array(val_label)"
   ]
  },
  {
   "cell_type": "code",
   "execution_count": 9,
   "metadata": {
    "id": "jQFtwLaW5QOR"
   },
   "outputs": [],
   "source": [
    "test_data = []\n",
    "test_label = []\n",
    "for r, d, f in os.walk(test_path):\n",
    "    for file in f:\n",
    "        if \".jpeg\" in file:\n",
    "            imagePath = os.path.join(r, file)\n",
    "            image = cv2.imread(imagePath)\n",
    "            image = cv2.resize(image, (224,224))\n",
    "            test_data.append(image)\n",
    "            label = imagePath.split(os.path.sep)[-2]\n",
    "            test_label.append(label)\n",
    "\n",
    "test_data = np.array(test_data)\n",
    "test_label = np.array(test_label)"
   ]
  },
  {
   "cell_type": "code",
   "execution_count": 10,
   "metadata": {
    "colab": {
     "base_uri": "https://localhost:8080/"
    },
    "id": "igV0Vots5Cfu",
    "outputId": "abd07ad8-b47f-4c06-bead-4ee163939d1c"
   },
   "outputs": [
    {
     "name": "stdout",
     "output_type": "stream",
     "text": [
      "Train Data =  (4684, 224, 224, 3)\n",
      "Train Label =  (4684,)\n",
      "Validation Data =  (1111, 224, 224, 3)\n",
      "Validation Label =  (1111,)\n",
      "Test Data =  (61, 224, 224, 3)\n",
      "Test Label =  (61,)\n"
     ]
    }
   ],
   "source": [
    "print(\"Train Data = \", train_data.shape)\n",
    "print(\"Train Label = \", train_label.shape)\n",
    "print(\"Validation Data = \", val_data.shape)\n",
    "print(\"Validation Label = \", val_label.shape)\n",
    "print(\"Test Data = \", test_data.shape)\n",
    "print(\"Test Label = \", test_label.shape)"
   ]
  },
  {
   "cell_type": "code",
   "execution_count": 11,
   "metadata": {
    "colab": {
     "base_uri": "https://localhost:8080/"
    },
    "id": "lIZ65cV2-cuB",
    "outputId": "2d74facb-7271-43ab-eab4-c4a922d25365"
   },
   "outputs": [
    {
     "name": "stdout",
     "output_type": "stream",
     "text": [
      "Data sebelum di-normalisasi  [40 40 40]\n",
      "Data setelah di-normalisasi  [0.15686275 0.15686275 0.15686275]\n"
     ]
    }
   ],
   "source": [
    "# Normalisasi dataset\n",
    "print(\"Data sebelum di-normalisasi \", train_data[0][0][0])\n",
    "\n",
    "x_train = train_data.astype('float32') / 255.0\n",
    "x_val = val_data.astype('float32') / 255.0\n",
    "x_test = test_data.astype('float32') / 255.0\n",
    "print(\"Data setelah di-normalisasi \", x_train[0][0][0])"
   ]
  },
  {
   "cell_type": "code",
   "execution_count": 2,
   "metadata": {
    "id": "XNcePMTg-hCE"
   },
   "outputs": [],
   "source": [
    "from tensorflow.keras.models import Sequential\n",
    "from tensorflow.keras.layers import InputLayer, Dense, Conv2D, MaxPool2D, AveragePooling2D, Flatten, GlobalMaxPool2D, GlobalAveragePooling2D"
   ]
  },
  {
   "cell_type": "code",
   "execution_count": 12,
   "metadata": {
    "colab": {
     "base_uri": "https://localhost:8080/"
    },
    "id": "E3o53nus-i_9",
    "outputId": "fd7674e5-50f2-4094-d5dc-9578b6809db2"
   },
   "outputs": [
    {
     "name": "stdout",
     "output_type": "stream",
     "text": [
      "Label sebelum di-encoder  ['NORMAL' 'NORMAL' 'NORMAL' 'NORMAL' 'NORMAL' 'NORMAL' 'NORMAL' 'NORMAL'\n",
      " 'NORMAL']\n",
      "Label setelah di-encoder  [0 0 0 0 0 0 0 0 0]\n"
     ]
    }
   ],
   "source": [
    "# Transformasi label encoder\n",
    "from sklearn.preprocessing import LabelEncoder\n",
    "\n",
    "print(\"Label sebelum di-encoder \", train_label[1:10])\n",
    "\n",
    "lb = LabelEncoder()\n",
    "y_train = lb.fit_transform(train_label)\n",
    "y_val = lb.fit_transform(val_label)\n",
    "y_test = lb.fit_transform(test_label)\n",
    "\n",
    "print(\"Label setelah di-encoder \", y_train[1:10])"
   ]
  },
  {
   "cell_type": "code",
   "execution_count": 13,
   "metadata": {
    "id": "BM2iCBDbJXgI"
   },
   "outputs": [],
   "source": [
    "# TULIS KODE ANDA DISINI\n",
    "from tensorflow.keras.models import Sequential\n",
    "from tensorflow.keras.layers import InputLayer, Dense, Conv2D, MaxPool2D, Flatten, BatchNormalization, Dropout\n",
    "from tensorflow.keras.callbacks import ModelCheckpoint, ReduceLROnPlateau, EarlyStopping\n",
    "from tensorflow.keras.optimizers import Adam\n",
    "import time\n",
    "\n",
    "#Feature Selection\n",
    "model = Sequential()\n",
    "\n",
    "#Menerapkan proses Convolution\n",
    "#Menerapkan proses Pooling\n",
    "model.add(InputLayer(input_shape=[224,224,3]))\n",
    "model.add(Conv2D(filters=32, kernel_size=3, strides=1, padding='same', activation='relu'))\n",
    "model.add(MaxPool2D(pool_size=2, padding='same'))\n",
    "model.add(Conv2D(filters=64, kernel_size=3, strides=1, padding='same', activation='relu'))\n",
    "model.add(MaxPool2D(pool_size=2, padding='same'))\n",
    "model.add(Conv2D(filters=128, kernel_size=3, strides=1, padding='same', activation='relu'))\n",
    "model.add(MaxPool2D(pool_size=2, padding='same'))\n",
    "\n",
    "#Menerapkan Dropout\n",
    "model.add(Dropout(0.25))\n",
    "\n",
    "#Menerpakan BatchNormalization\n",
    "model.add(BatchNormalization())\n",
    "model.add(Flatten())\n",
    "\n",
    "#Fully Connected Layer\n",
    "model.add(Dense(512, activation='relu'))\n",
    "model.add(Dropout(0.3))\n",
    "model.add(Dense(1, activation='sigmoid'))"
   ]
  },
  {
   "cell_type": "code",
   "execution_count": 14,
   "metadata": {
    "colab": {
     "base_uri": "https://localhost:8080/"
    },
    "id": "3epQK6BHJYN2",
    "outputId": "67d409ea-830d-44a9-f18a-59321cc15ac0"
   },
   "outputs": [
    {
     "name": "stdout",
     "output_type": "stream",
     "text": [
      "Model: \"sequential\"\n",
      "_________________________________________________________________\n",
      "Layer (type)                 Output Shape              Param #   \n",
      "=================================================================\n",
      "conv2d (Conv2D)              (None, 224, 224, 32)      896       \n",
      "_________________________________________________________________\n",
      "max_pooling2d (MaxPooling2D) (None, 112, 112, 32)      0         \n",
      "_________________________________________________________________\n",
      "conv2d_1 (Conv2D)            (None, 112, 112, 64)      18496     \n",
      "_________________________________________________________________\n",
      "max_pooling2d_1 (MaxPooling2 (None, 56, 56, 64)        0         \n",
      "_________________________________________________________________\n",
      "conv2d_2 (Conv2D)            (None, 56, 56, 128)       73856     \n",
      "_________________________________________________________________\n",
      "max_pooling2d_2 (MaxPooling2 (None, 28, 28, 128)       0         \n",
      "_________________________________________________________________\n",
      "dropout (Dropout)            (None, 28, 28, 128)       0         \n",
      "_________________________________________________________________\n",
      "batch_normalization (BatchNo (None, 28, 28, 128)       512       \n",
      "_________________________________________________________________\n",
      "flatten (Flatten)            (None, 100352)            0         \n",
      "_________________________________________________________________\n",
      "dense (Dense)                (None, 512)               51380736  \n",
      "_________________________________________________________________\n",
      "dropout_1 (Dropout)          (None, 512)               0         \n",
      "_________________________________________________________________\n",
      "dense_1 (Dense)              (None, 1)                 513       \n",
      "=================================================================\n",
      "Total params: 51,475,009\n",
      "Trainable params: 51,474,753\n",
      "Non-trainable params: 256\n",
      "_________________________________________________________________\n",
      "None\n"
     ]
    }
   ],
   "source": [
    "# Summary Scenario Pertama\n",
    "print(model.summary())"
   ]
  },
  {
   "cell_type": "code",
   "execution_count": 15,
   "metadata": {
    "id": "-451gVc2J-Es"
   },
   "outputs": [],
   "source": [
    "# Compile model\n",
    "from tensorflow.keras.optimizers import Adam\n",
    "# Compile model\n",
    "from tensorflow.keras.optimizers import Adam\n",
    "from tensorflow.keras.preprocessing.image import ImageDataGenerator\n",
    "model.compile(optimizer=Adam(learning_rate=0.001), \n",
    "              loss='binary_crossentropy', \n",
    "              metrics=['acc'])"
   ]
  },
  {
   "cell_type": "code",
   "execution_count": 16,
   "metadata": {
    "id": "gmtWP-mG_Zq4"
   },
   "outputs": [],
   "source": [
    "train_datagen = ImageDataGenerator(rescale=1. / 255,\n",
    "                                rotation_range=40,\n",
    "                                width_shift_range=0.2,\n",
    "                                height_shift_range=0.2,\n",
    "                                zoom_range=0.2,\n",
    "                                horizontal_flip=True,\n",
    "                                fill_mode='nearest')"
   ]
  },
  {
   "cell_type": "code",
   "execution_count": 17,
   "metadata": {
    "id": "E9ZUo16AvYdj"
   },
   "outputs": [],
   "source": [
    "batch_size = 32"
   ]
  },
  {
   "cell_type": "code",
   "execution_count": 18,
   "metadata": {
    "colab": {
     "base_uri": "https://localhost:8080/"
    },
    "id": "ZBrlCGL4_i2h",
    "outputId": "16089c54-4913-4a42-ba32-68cb16bb258a"
   },
   "outputs": [
    {
     "name": "stdout",
     "output_type": "stream",
     "text": [
      "Epoch 1/100\n",
      "146/146 [==============================] - 167s 1s/step - loss: 0.6647 - acc: 0.7130 - val_loss: 6.4988 - val_acc: 0.2727\n",
      "Epoch 2/100\n",
      "146/146 [==============================] - 164s 1s/step - loss: 0.6566 - acc: 0.7268 - val_loss: 21.0359 - val_acc: 0.2700\n",
      "Epoch 3/100\n",
      "146/146 [==============================] - 172s 1s/step - loss: 0.6261 - acc: 0.7279 - val_loss: 44.7072 - val_acc: 0.2700\n",
      "Epoch 4/100\n",
      "146/146 [==============================] - 158s 1s/step - loss: 0.6098 - acc: 0.7279 - val_loss: 88.3409 - val_acc: 0.2700\n",
      "Epoch 5/100\n",
      "146/146 [==============================] - 157s 1s/step - loss: 0.6104 - acc: 0.7279 - val_loss: 129.0194 - val_acc: 0.2700\n",
      "Epoch 6/100\n",
      "146/146 [==============================] - 156s 1s/step - loss: 0.6135 - acc: 0.7279 - val_loss: 153.3967 - val_acc: 0.2700\n",
      "Epoch 7/100\n",
      "146/146 [==============================] - 157s 1s/step - loss: 0.5989 - acc: 0.7279 - val_loss: 166.3941 - val_acc: 0.2700\n",
      "Epoch 8/100\n",
      "146/146 [==============================] - 156s 1s/step - loss: 0.6024 - acc: 0.7279 - val_loss: 169.0708 - val_acc: 0.2700\n",
      "Epoch 9/100\n",
      "146/146 [==============================] - 156s 1s/step - loss: 0.5740 - acc: 0.7279 - val_loss: 205.0552 - val_acc: 0.2700\n",
      "Epoch 10/100\n",
      "146/146 [==============================] - 156s 1s/step - loss: 0.6104 - acc: 0.7279 - val_loss: 206.2072 - val_acc: 0.2700\n",
      "Epoch 11/100\n",
      "146/146 [==============================] - 155s 1s/step - loss: 0.8193 - acc: 0.7077 - val_loss: 403.8213 - val_acc: 0.2700\n",
      "Epoch 12/100\n",
      "146/146 [==============================] - 155s 1s/step - loss: 0.6279 - acc: 0.7279 - val_loss: 406.3987 - val_acc: 0.2700\n",
      "Epoch 13/100\n",
      "146/146 [==============================] - 155s 1s/step - loss: 0.6134 - acc: 0.7279 - val_loss: 406.0380 - val_acc: 0.2700\n",
      "Epoch 14/100\n",
      "146/146 [==============================] - 155s 1s/step - loss: 0.6089 - acc: 0.7279 - val_loss: 405.2605 - val_acc: 0.2700\n",
      "Epoch 15/100\n",
      "146/146 [==============================] - 155s 1s/step - loss: 0.5965 - acc: 0.7347 - val_loss: 403.2848 - val_acc: 0.2700\n",
      "Epoch 16/100\n",
      "146/146 [==============================] - 155s 1s/step - loss: 0.6071 - acc: 0.7279 - val_loss: 402.8370 - val_acc: 0.2700\n",
      "Epoch 17/100\n",
      "146/146 [==============================] - 155s 1s/step - loss: 0.6021 - acc: 0.7279 - val_loss: 405.7757 - val_acc: 0.2700\n",
      "Epoch 18/100\n",
      "146/146 [==============================] - 155s 1s/step - loss: 0.6035 - acc: 0.7347 - val_loss: 403.5904 - val_acc: 0.2700\n",
      "Epoch 19/100\n",
      "146/146 [==============================] - 155s 1s/step - loss: 0.6273 - acc: 0.7279 - val_loss: 401.7935 - val_acc: 0.2700\n",
      "Epoch 20/100\n",
      "146/146 [==============================] - 155s 1s/step - loss: 0.6014 - acc: 0.7279 - val_loss: 406.5151 - val_acc: 0.2700\n",
      "Epoch 21/100\n",
      "146/146 [==============================] - 155s 1s/step - loss: 0.5995 - acc: 0.7279 - val_loss: 405.0196 - val_acc: 0.2700\n",
      "Epoch 22/100\n",
      "146/146 [==============================] - 155s 1s/step - loss: 0.5930 - acc: 0.7347 - val_loss: 399.9248 - val_acc: 0.2700\n",
      "Epoch 23/100\n",
      "146/146 [==============================] - 155s 1s/step - loss: 0.6010 - acc: 0.7279 - val_loss: 405.2906 - val_acc: 0.2700\n",
      "Epoch 24/100\n",
      "146/146 [==============================] - 155s 1s/step - loss: 0.6022 - acc: 0.7279 - val_loss: 404.4331 - val_acc: 0.2700\n",
      "Epoch 25/100\n",
      "146/146 [==============================] - 155s 1s/step - loss: 0.5916 - acc: 0.7347 - val_loss: 381.5558 - val_acc: 0.2700\n",
      "Epoch 26/100\n",
      "146/146 [==============================] - 155s 1s/step - loss: 0.5947 - acc: 0.7347 - val_loss: 363.6714 - val_acc: 0.2700\n",
      "Epoch 27/100\n",
      "146/146 [==============================] - 155s 1s/step - loss: 0.5919 - acc: 0.7279 - val_loss: 368.0370 - val_acc: 0.2700\n",
      "Epoch 28/100\n",
      "146/146 [==============================] - 155s 1s/step - loss: 0.6007 - acc: 0.7279 - val_loss: 362.2762 - val_acc: 0.2700\n",
      "Epoch 29/100\n",
      "146/146 [==============================] - 155s 1s/step - loss: 0.8670 - acc: 0.6819 - val_loss: 181.6398 - val_acc: 0.2700\n",
      "Epoch 30/100\n",
      "146/146 [==============================] - 156s 1s/step - loss: 0.6030 - acc: 0.7279 - val_loss: 185.8519 - val_acc: 0.2700\n",
      "Epoch 31/100\n",
      "146/146 [==============================] - 155s 1s/step - loss: 0.6063 - acc: 0.7347 - val_loss: 186.6554 - val_acc: 0.2700\n",
      "Epoch 32/100\n",
      "146/146 [==============================] - 155s 1s/step - loss: 0.6066 - acc: 0.7279 - val_loss: 187.9579 - val_acc: 0.2700\n",
      "Epoch 33/100\n",
      "146/146 [==============================] - 155s 1s/step - loss: 0.6002 - acc: 0.7347 - val_loss: 186.0066 - val_acc: 0.2700\n",
      "Epoch 34/100\n",
      "146/146 [==============================] - 155s 1s/step - loss: 0.5998 - acc: 0.7279 - val_loss: 187.7661 - val_acc: 0.2700\n",
      "Epoch 35/100\n",
      "146/146 [==============================] - 155s 1s/step - loss: 0.5926 - acc: 0.7347 - val_loss: 188.6922 - val_acc: 0.2700\n",
      "Epoch 36/100\n",
      "146/146 [==============================] - 155s 1s/step - loss: 0.6040 - acc: 0.7279 - val_loss: 189.2912 - val_acc: 0.2700\n",
      "Epoch 37/100\n",
      "146/146 [==============================] - 155s 1s/step - loss: 0.5905 - acc: 0.7279 - val_loss: 191.1896 - val_acc: 0.2700\n",
      "Epoch 38/100\n",
      "146/146 [==============================] - 156s 1s/step - loss: 0.5971 - acc: 0.7279 - val_loss: 188.2230 - val_acc: 0.2700\n",
      "Epoch 39/100\n",
      "146/146 [==============================] - 155s 1s/step - loss: 0.5985 - acc: 0.7279 - val_loss: 185.2366 - val_acc: 0.2700\n",
      "Epoch 40/100\n",
      "146/146 [==============================] - 155s 1s/step - loss: 0.6031 - acc: 0.7279 - val_loss: 182.4930 - val_acc: 0.2700\n",
      "Epoch 41/100\n",
      "146/146 [==============================] - 155s 1s/step - loss: 0.5953 - acc: 0.7279 - val_loss: 181.0208 - val_acc: 0.2700\n",
      "Epoch 42/100\n",
      "146/146 [==============================] - 155s 1s/step - loss: 0.5950 - acc: 0.7279 - val_loss: 182.6679 - val_acc: 0.2700\n",
      "Epoch 43/100\n",
      "146/146 [==============================] - 155s 1s/step - loss: 0.5958 - acc: 0.7279 - val_loss: 181.4141 - val_acc: 0.2700\n",
      "Epoch 44/100\n",
      "146/146 [==============================] - 156s 1s/step - loss: 0.5971 - acc: 0.7279 - val_loss: 174.9195 - val_acc: 0.2700\n",
      "Epoch 45/100\n",
      "146/146 [==============================] - 155s 1s/step - loss: 0.5894 - acc: 0.7347 - val_loss: 170.4107 - val_acc: 0.2700\n",
      "Epoch 46/100\n",
      "146/146 [==============================] - 155s 1s/step - loss: 0.5963 - acc: 0.7279 - val_loss: 183.8525 - val_acc: 0.2700\n",
      "Epoch 47/100\n",
      "146/146 [==============================] - 155s 1s/step - loss: 0.5978 - acc: 0.7279 - val_loss: 178.3367 - val_acc: 0.2700\n",
      "Epoch 48/100\n",
      "146/146 [==============================] - 155s 1s/step - loss: 0.5966 - acc: 0.7279 - val_loss: 184.3475 - val_acc: 0.2700\n",
      "Epoch 49/100\n",
      "146/146 [==============================] - 155s 1s/step - loss: 0.6400 - acc: 0.7139 - val_loss: 84.3323 - val_acc: 0.7300\n",
      "Epoch 50/100\n",
      "146/146 [==============================] - 155s 1s/step - loss: 0.6109 - acc: 0.7279 - val_loss: 84.3480 - val_acc: 0.7300\n",
      "Epoch 51/100\n",
      "146/146 [==============================] - 155s 1s/step - loss: 0.6073 - acc: 0.7279 - val_loss: 84.3561 - val_acc: 0.7300\n",
      "Epoch 52/100\n",
      "146/146 [==============================] - 155s 1s/step - loss: 0.6004 - acc: 0.7347 - val_loss: 84.3648 - val_acc: 0.7300\n",
      "Epoch 53/100\n",
      "146/146 [==============================] - 155s 1s/step - loss: 0.6017 - acc: 0.7279 - val_loss: 84.3731 - val_acc: 0.7300\n",
      "Epoch 54/100\n",
      "146/146 [==============================] - 155s 1s/step - loss: 0.5996 - acc: 0.7279 - val_loss: 84.3792 - val_acc: 0.7300\n",
      "Epoch 55/100\n",
      "146/146 [==============================] - 155s 1s/step - loss: 0.5977 - acc: 0.7279 - val_loss: 84.3858 - val_acc: 0.7300\n",
      "Epoch 56/100\n",
      "146/146 [==============================] - 155s 1s/step - loss: 0.5961 - acc: 0.7279 - val_loss: 84.3912 - val_acc: 0.7300\n",
      "Epoch 57/100\n",
      "146/146 [==============================] - 155s 1s/step - loss: 0.5899 - acc: 0.7347 - val_loss: 84.3983 - val_acc: 0.7300\n",
      "Epoch 58/100\n",
      "146/146 [==============================] - 155s 1s/step - loss: 0.5933 - acc: 0.7279 - val_loss: 84.4032 - val_acc: 0.7300\n",
      "Epoch 59/100\n",
      "146/146 [==============================] - 155s 1s/step - loss: 0.5923 - acc: 0.7279 - val_loss: 84.4077 - val_acc: 0.7300\n",
      "Epoch 60/100\n",
      "146/146 [==============================] - 155s 1s/step - loss: 0.5916 - acc: 0.7279 - val_loss: 84.4124 - val_acc: 0.7300\n"
     ]
    },
    {
     "name": "stdout",
     "output_type": "stream",
     "text": [
      "Epoch 61/100\n",
      "146/146 [==============================] - 155s 1s/step - loss: 0.5853 - acc: 0.7347 - val_loss: 84.4163 - val_acc: 0.7300\n",
      "Epoch 62/100\n",
      "146/146 [==============================] - 154s 1s/step - loss: 0.5845 - acc: 0.7347 - val_loss: 84.4211 - val_acc: 0.7300\n",
      "Epoch 63/100\n",
      "146/146 [==============================] - 154s 1s/step - loss: 0.5892 - acc: 0.7279 - val_loss: 84.4250 - val_acc: 0.7300\n",
      "Epoch 64/100\n",
      "146/146 [==============================] - 154s 1s/step - loss: 0.5888 - acc: 0.7279 - val_loss: 84.4282 - val_acc: 0.7300\n",
      "Epoch 65/100\n",
      "146/146 [==============================] - 155s 1s/step - loss: 0.5883 - acc: 0.7279 - val_loss: 84.4319 - val_acc: 0.7300\n",
      "Epoch 66/100\n",
      "146/146 [==============================] - 154s 1s/step - loss: 0.5823 - acc: 0.7347 - val_loss: 84.4350 - val_acc: 0.7300\n",
      "Epoch 67/100\n",
      "146/146 [==============================] - 155s 1s/step - loss: 0.5877 - acc: 0.7279 - val_loss: 84.4382 - val_acc: 0.7300\n",
      "Epoch 68/100\n",
      "146/146 [==============================] - 154s 1s/step - loss: 0.5814 - acc: 0.7347 - val_loss: 84.4406 - val_acc: 0.7300\n",
      "Epoch 69/100\n",
      "146/146 [==============================] - 154s 1s/step - loss: 0.5870 - acc: 0.7279 - val_loss: 84.4432 - val_acc: 0.7300\n",
      "Epoch 70/100\n",
      "146/146 [==============================] - 154s 1s/step - loss: 0.5869 - acc: 0.7279 - val_loss: 84.4461 - val_acc: 0.7300\n",
      "Epoch 71/100\n",
      "146/146 [==============================] - 154s 1s/step - loss: 0.5806 - acc: 0.7347 - val_loss: 84.4478 - val_acc: 0.7300\n",
      "Epoch 72/100\n",
      "146/146 [==============================] - 155s 1s/step - loss: 0.5865 - acc: 0.7279 - val_loss: 84.4494 - val_acc: 0.7300\n",
      "Epoch 73/100\n",
      "146/146 [==============================] - 155s 1s/step - loss: 0.5863 - acc: 0.7279 - val_loss: 84.4514 - val_acc: 0.7300\n",
      "Epoch 74/100\n",
      "146/146 [==============================] - 154s 1s/step - loss: 0.5800 - acc: 0.7347 - val_loss: 84.4530 - val_acc: 0.7300\n",
      "Epoch 75/100\n",
      "146/146 [==============================] - 154s 1s/step - loss: 0.5799 - acc: 0.7347 - val_loss: 84.4551 - val_acc: 0.7300\n",
      "Epoch 76/100\n",
      "146/146 [==============================] - 155s 1s/step - loss: 0.5861 - acc: 0.7279 - val_loss: 84.4574 - val_acc: 0.7300\n",
      "Epoch 77/100\n",
      "146/146 [==============================] - 155s 1s/step - loss: 0.5796 - acc: 0.7347 - val_loss: 84.4592 - val_acc: 0.7300\n",
      "Epoch 78/100\n",
      "146/146 [==============================] - 154s 1s/step - loss: 0.5859 - acc: 0.7279 - val_loss: 84.4589 - val_acc: 0.7300\n",
      "Epoch 79/100\n",
      "146/146 [==============================] - 155s 1s/step - loss: 0.5858 - acc: 0.7279 - val_loss: 84.4614 - val_acc: 0.7300\n",
      "Epoch 80/100\n",
      "146/146 [==============================] - 155s 1s/step - loss: 0.5859 - acc: 0.7279 - val_loss: 84.4620 - val_acc: 0.7300\n",
      "Epoch 81/100\n",
      "146/146 [==============================] - 155s 1s/step - loss: 0.5846 - acc: 0.7290 - val_loss: 84.4632 - val_acc: 0.7300\n",
      "Epoch 82/100\n",
      "146/146 [==============================] - 155s 1s/step - loss: 0.5857 - acc: 0.7279 - val_loss: 84.4636 - val_acc: 0.7300\n",
      "Epoch 83/100\n",
      "146/146 [==============================] - 155s 1s/step - loss: 0.5856 - acc: 0.7279 - val_loss: 84.4639 - val_acc: 0.7300\n",
      "Epoch 84/100\n",
      "146/146 [==============================] - 155s 1s/step - loss: 0.5857 - acc: 0.7279 - val_loss: 84.4652 - val_acc: 0.7300\n",
      "Epoch 85/100\n",
      "146/146 [==============================] - 155s 1s/step - loss: 0.5857 - acc: 0.7279 - val_loss: 84.4660 - val_acc: 0.7300\n",
      "Epoch 86/100\n",
      "146/146 [==============================] - 154s 1s/step - loss: 0.5857 - acc: 0.7279 - val_loss: 84.4664 - val_acc: 0.7300\n",
      "Epoch 87/100\n",
      "146/146 [==============================] - 154s 1s/step - loss: 0.5856 - acc: 0.7279 - val_loss: 84.4664 - val_acc: 0.7300\n",
      "Epoch 88/100\n",
      "146/146 [==============================] - 155s 1s/step - loss: 0.5855 - acc: 0.7279 - val_loss: 84.4682 - val_acc: 0.7300\n",
      "Epoch 89/100\n",
      "146/146 [==============================] - 154s 1s/step - loss: 0.5857 - acc: 0.7279 - val_loss: 84.4681 - val_acc: 0.7300\n",
      "Epoch 90/100\n",
      "146/146 [==============================] - 154s 1s/step - loss: 0.5790 - acc: 0.7347 - val_loss: 84.4703 - val_acc: 0.7300\n",
      "Epoch 91/100\n",
      "146/146 [==============================] - 154s 1s/step - loss: 0.5789 - acc: 0.7347 - val_loss: 84.4699 - val_acc: 0.7300\n",
      "Epoch 92/100\n",
      "146/146 [==============================] - 154s 1s/step - loss: 0.5788 - acc: 0.7347 - val_loss: 84.4714 - val_acc: 0.7300\n",
      "Epoch 93/100\n",
      "146/146 [==============================] - 155s 1s/step - loss: 0.5857 - acc: 0.7279 - val_loss: 84.4716 - val_acc: 0.7300\n",
      "Epoch 94/100\n",
      "146/146 [==============================] - 155s 1s/step - loss: 0.5789 - acc: 0.7347 - val_loss: 84.4734 - val_acc: 0.7300\n",
      "Epoch 95/100\n",
      "146/146 [==============================] - 154s 1s/step - loss: 0.5857 - acc: 0.7279 - val_loss: 84.4724 - val_acc: 0.7300\n",
      "Epoch 96/100\n",
      "146/146 [==============================] - 154s 1s/step - loss: 0.5856 - acc: 0.7279 - val_loss: 84.4731 - val_acc: 0.7300\n",
      "Epoch 97/100\n",
      "146/146 [==============================] - 155s 1s/step - loss: 0.5857 - acc: 0.7279 - val_loss: 84.4734 - val_acc: 0.7300\n",
      "Epoch 98/100\n",
      "146/146 [==============================] - 155s 1s/step - loss: 0.5789 - acc: 0.7347 - val_loss: 84.4732 - val_acc: 0.7300\n",
      "Epoch 99/100\n",
      "146/146 [==============================] - 155s 1s/step - loss: 0.5856 - acc: 0.7279 - val_loss: 84.4745 - val_acc: 0.7300\n",
      "Epoch 100/100\n",
      "146/146 [==============================] - 155s 1s/step - loss: 0.5856 - acc: 0.7279 - val_loss: 84.4735 - val_acc: 0.7300\n"
     ]
    }
   ],
   "source": [
    "history = model.fit(train_datagen.flow(x_train,y_train,\n",
    "                                       batch_size=batch_size, \n",
    "                                       seed=52,\n",
    "                                       shuffle=False),\n",
    "                    epochs=100,\n",
    "                    steps_per_epoch=x_train.shape[0] // batch_size,\n",
    "                    validation_data=(x_val,y_val))"
   ]
  },
  {
   "cell_type": "code",
   "execution_count": null,
   "metadata": {
    "colab": {
     "base_uri": "https://localhost:8080/"
    },
    "id": "GszoKnxTsLyI",
    "outputId": "37dcd9fb-ade6-4be4-b875-4972c821595f"
   },
   "outputs": [
    {
     "name": "stdout",
     "output_type": "stream",
     "text": [
      " \u001b[0m\u001b[01;34mchest_xray\u001b[0m/   chest-xray-pneumonia.zip  'Project Kelompok.ipynb'\n"
     ]
    }
   ],
   "source": [
    "ls"
   ]
  },
  {
   "cell_type": "code",
   "execution_count": 37,
   "metadata": {
    "colab": {
     "base_uri": "https://localhost:8080/"
    },
    "id": "OC3hhRoEKHjS",
    "outputId": "cf524d99-5aad-41c7-e69f-16738b9ad7e0"
   },
   "outputs": [],
   "source": [
    "model.save('Model1.h5')"
   ]
  },
  {
   "cell_type": "code",
   "execution_count": null,
   "metadata": {
    "id": "yahjy39MPF1y"
   },
   "outputs": [],
   "source": [
    "model2.save(\"model2.h5\")"
   ]
  },
  {
   "cell_type": "code",
   "execution_count": null,
   "metadata": {
    "colab": {
     "base_uri": "https://localhost:8080/"
    },
    "id": "Tn3daI5ns5Kp",
    "outputId": "47cc2685-1b98-4715-a326-6cca71882547"
   },
   "outputs": [
    {
     "name": "stdout",
     "output_type": "stream",
     "text": [
      " \u001b[0m\u001b[01;34mchest_xray\u001b[0m/                model2.h5           'Project Kelompok.ipynb'\n",
      " chest-xray-pneumonia.zip  \u001b[01;34m'Project Kelompok'\u001b[0m/\n"
     ]
    }
   ],
   "source": [
    "ls"
   ]
  },
  {
   "cell_type": "code",
   "execution_count": 28,
   "metadata": {
    "colab": {
     "base_uri": "https://localhost:8080/",
     "height": 598
    },
    "id": "fIaEOD3mzW-h",
    "outputId": "ac9fe9ec-b0a6-4c82-cd72-abbd0b88c1bf"
   },
   "outputs": [
    {
     "data": {
      "image/png": "[encoded data removed]",
      "text/plain": [
       "<Figure size 432x288 with 1 Axes>"
      ]
     },
     "metadata": {},
     "output_type": "display_data"
    },
    {
     "data": {
      "image/png": "[encoded data removed]",
      "text/plain": [
       "<Figure size 432x288 with 1 Axes>"
      ]
     },
     "metadata": {},
     "output_type": "display_data"
    }
   ],
   "source": [
    "#Evaluasi model menggunakan grafik loss dan accuracy\n",
    "\n",
    "plt.style.use(\"ggplot\")\n",
    "\n",
    "plt.plot(np.arange(0, 100), history.history[\"loss\"], label=\"train_loss\")\n",
    "plt.plot(np.arange(0, 100), history.history[\"val_loss\"], label=\"val_loss\")\n",
    "plt.title(\"Loss Plot\")\n",
    "plt.xlabel(\"Epoch #\")\n",
    "plt.ylabel(\"Loss\")\n",
    "plt.show()\n",
    "\n",
    "plt.plot(np.arange(0, 100), history.history[\"acc\"], label=\"train_acc\")\n",
    "plt.plot(np.arange(0, 100), history.history[\"val_acc\"], label=\"val_acc\")\n",
    "plt.title(\"Accuracy Plot\")\n",
    "plt.xlabel(\"Epoch #\")\n",
    "plt.ylabel(\"Accuracy\")\n",
    "plt.legend()\n",
    "plt.show()"
   ]
  },
  {
   "cell_type": "code",
   "execution_count": 26,
   "metadata": {
    "colab": {
     "base_uri": "https://localhost:8080/"
    },
    "id": "ij3EavwCs9Pg",
    "outputId": "d0d16157-6e8e-43d0-f982-b25147cf06a6"
   },
   "outputs": [
    {
     "name": "stdout",
     "output_type": "stream",
     "text": [
      "              precision    recall  f1-score   support\n",
      "\n",
      "           0       0.00      0.00      0.00        17\n",
      "           1       0.72      1.00      0.84        44\n",
      "\n",
      "    accuracy                           0.72        61\n",
      "   macro avg       0.36      0.50      0.42        61\n",
      "weighted avg       0.52      0.72      0.60        61\n",
      "\n"
     ]
    },
    {
     "name": "stderr",
     "output_type": "stream",
     "text": [
      "C:\\Users\\ROG\\anaconda3\\lib\\site-packages\\sklearn\\metrics\\_classification.py:1245: UndefinedMetricWarning: Precision and F-score are ill-defined and being set to 0.0 in labels with no predicted samples. Use `zero_division` parameter to control this behavior.\n",
      "  _warn_prf(average, modifier, msg_start, len(result))\n",
      "C:\\Users\\ROG\\anaconda3\\lib\\site-packages\\sklearn\\metrics\\_classification.py:1245: UndefinedMetricWarning: Precision and F-score are ill-defined and being set to 0.0 in labels with no predicted samples. Use `zero_division` parameter to control this behavior.\n",
      "  _warn_prf(average, modifier, msg_start, len(result))\n",
      "C:\\Users\\ROG\\anaconda3\\lib\\site-packages\\sklearn\\metrics\\_classification.py:1245: UndefinedMetricWarning: Precision and F-score are ill-defined and being set to 0.0 in labels with no predicted samples. Use `zero_division` parameter to control this behavior.\n",
      "  _warn_prf(average, modifier, msg_start, len(result))\n"
     ]
    }
   ],
   "source": [
    "from sklearn.metrics import classification_report\n",
    "\n",
    "pred = model.predict(x_test)\n",
    "labels = (pred > 0.5).astype(np.int)\n",
    "\n",
    "print(classification_report(y_test, labels))"
   ]
  },
  {
   "cell_type": "code",
   "execution_count": 29,
   "metadata": {
    "id": "c42-iMyJyw2g"
   },
   "outputs": [],
   "source": [
    "# TULIS KODE ANDA DISINI\n",
    "# Definisikan path untuk data train test dan validation sesuai dengan path\n",
    "\n",
    "import os\n",
    "\n",
    "train_dir = os.path.join('train')\n",
    "test_dir  = os.path.join('test')\n",
    "val_dir   = os.path.join('val')\n",
    "\n"
   ]
  },
  {
   "cell_type": "code",
   "execution_count": 30,
   "metadata": {},
   "outputs": [
    {
     "name": "stdout",
     "output_type": "stream",
     "text": [
      "Found 4684 images belonging to 2 classes.\n",
      "Found 1111 images belonging to 2 classes.\n",
      "Found 61 images belonging to 2 classes.\n"
     ]
    }
   ],
   "source": [
    "# TULIS KODE ANDA DISINI\n",
    "\n",
    "from keras.preprocessing.image import ImageDataGenerator\n",
    "from sklearn.utils import shuffle\n",
    "\n",
    "batch_size = 32\n",
    "augmen_gen = ImageDataGenerator(rescale=1. / 255,\n",
    "                                rotation_range=40,\n",
    "                                width_shift_range=0.2,\n",
    "                                height_shift_range=0.2,\n",
    "                                zoom_range=0.2,\n",
    "                                horizontal_flip=True,\n",
    "                                fill_mode='nearest')\n",
    "\n",
    "train_gen = augmen_gen.flow_from_directory(\n",
    "    train_path,\n",
    "    class_mode = 'categorical',\n",
    "    shuffle=True,\n",
    "    target_size = (224,224),\n",
    "    batch_size=batch_size,\n",
    "    color_mode ='rgb'\n",
    ")\n",
    "\n",
    "val_gen = augmen_gen.flow_from_directory(\n",
    "    val_path,\n",
    "    class_mode = 'categorical',\n",
    "    shuffle=True,\n",
    "    target_size = (224,224),\n",
    "    batch_size= batch_size,\n",
    "    color_mode ='rgb'\n",
    ")\n",
    "\n",
    "test_gen = augmen_gen.flow_from_directory(\n",
    "    test_path,\n",
    "    class_mode = 'categorical',\n",
    "    shuffle=False,\n",
    "    target_size = (224,224),\n",
    "    batch_size=batch_size,\n",
    "    color_mode ='rgb',\n",
    ")"
   ]
  },
  {
   "cell_type": "code",
   "execution_count": 31,
   "metadata": {},
   "outputs": [],
   "source": [
    "# TULIS KODE ANDA DISINI\n",
    "from tensorflow.keras.models import Sequential\n",
    "from tensorflow.keras.layers import InputLayer, Dense, Conv2D, MaxPool2D, Flatten, BatchNormalization, Dropout\n",
    "from tensorflow.keras.callbacks import ModelCheckpoint, ReduceLROnPlateau, EarlyStopping\n",
    "from tensorflow.keras.optimizers import Adam\n",
    "import time\n",
    "\n",
    "#Feature Selection\n",
    "model2 = Sequential()\n",
    "\n",
    "#Menerapkan proses Convolution\n",
    "#Menerapkan proses Pooling\n",
    "model2.add(InputLayer(input_shape=[224,224,3]))\n",
    "model2.add(Conv2D(filters=32, kernel_size=3, strides=1, padding='same', activation='relu'))\n",
    "model2.add(MaxPool2D(pool_size=2, padding='same'))\n",
    "model2.add(Conv2D(filters=64, kernel_size=3, strides=1, padding='same', activation='relu'))\n",
    "model2.add(MaxPool2D(pool_size=2, padding='same'))\n",
    "model2.add(Conv2D(filters=128, kernel_size=3, strides=1, padding='same', activation='relu'))\n",
    "model2.add(MaxPool2D(pool_size=2, padding='same'))\n",
    "\n",
    "#Menerapkan Dropout\n",
    "model2.add(Dropout(0.25))\n",
    "\n",
    "#Menerpakan BatchNormalization\n",
    "model2.add(BatchNormalization())\n",
    "model2.add(Flatten())\n",
    "\n",
    "#Fully Connected Layer\n",
    "model2.add(Dense(512, activation='relu'))\n",
    "model2.add(Dropout(0.3))\n",
    "model2.add(Dense(1, activation='sigmoid'))"
   ]
  },
  {
   "cell_type": "code",
   "execution_count": 32,
   "metadata": {},
   "outputs": [],
   "source": [
    "# Compile model\n",
    "from tensorflow.keras.optimizers import Adam\n",
    "from tensorflow.keras.optimizers import RMSprop\n",
    "\n",
    "model2.compile(optimizer=Adam(learning_rate=0.001), \n",
    "              loss='binary_crossentropy', \n",
    "              metrics=['acc'])"
   ]
  },
  {
   "cell_type": "code",
   "execution_count": 33,
   "metadata": {},
   "outputs": [
    {
     "name": "stdout",
     "output_type": "stream",
     "text": [
      "Epoch 1/100\n",
      "147/147 [==============================] - 236s 2s/step - loss: 0.7581 - acc: 0.5000 - val_loss: 0.6953 - val_acc: 0.5000\n",
      "Epoch 2/100\n",
      "147/147 [==============================] - 217s 1s/step - loss: 0.6984 - acc: 0.5000 - val_loss: 0.6956 - val_acc: 0.5000\n",
      "Epoch 3/100\n",
      "147/147 [==============================] - 222s 2s/step - loss: 0.6979 - acc: 0.5000 - val_loss: 2.3471 - val_acc: 0.5000\n",
      "Epoch 4/100\n",
      "147/147 [==============================] - 214s 1s/step - loss: 0.6967 - acc: 0.5000 - val_loss: 0.6937 - val_acc: 0.5000\n",
      "Epoch 5/100\n",
      "147/147 [==============================] - 215s 1s/step - loss: 0.6961 - acc: 0.5000 - val_loss: 0.6932 - val_acc: 0.5000\n",
      "Epoch 6/100\n",
      "147/147 [==============================] - 213s 1s/step - loss: 0.6956 - acc: 0.5000 - val_loss: 0.6933 - val_acc: 0.5000\n",
      "Epoch 7/100\n",
      "147/147 [==============================] - 214s 1s/step - loss: 0.6954 - acc: 0.5000 - val_loss: 0.6935 - val_acc: 0.5000\n",
      "Epoch 8/100\n",
      "147/147 [==============================] - 214s 1s/step - loss: 0.6949 - acc: 0.5000 - val_loss: 0.6932 - val_acc: 0.5000\n",
      "Epoch 9/100\n",
      "147/147 [==============================] - 213s 1s/step - loss: 0.6946 - acc: 0.5000 - val_loss: 0.6934 - val_acc: 0.5000\n",
      "Epoch 10/100\n",
      "147/147 [==============================] - 213s 1s/step - loss: 0.6944 - acc: 0.5000 - val_loss: 0.6932 - val_acc: 0.5000\n",
      "Epoch 11/100\n",
      "147/147 [==============================] - 214s 1s/step - loss: 0.6942 - acc: 0.5000 - val_loss: 0.6932 - val_acc: 0.5000\n",
      "Epoch 12/100\n",
      "147/147 [==============================] - 213s 1s/step - loss: 0.6939 - acc: 0.5000 - val_loss: 0.6932 - val_acc: 0.5000\n",
      "Epoch 13/100\n",
      "147/147 [==============================] - 214s 1s/step - loss: 0.6938 - acc: 0.5000 - val_loss: 0.6932 - val_acc: 0.5000\n",
      "Epoch 14/100\n",
      "147/147 [==============================] - 213s 1s/step - loss: 0.6936 - acc: 0.5000 - val_loss: 0.6932 - val_acc: 0.5000\n",
      "Epoch 15/100\n",
      "147/147 [==============================] - 214s 1s/step - loss: 0.6935 - acc: 0.5000 - val_loss: 0.6932 - val_acc: 0.5000\n",
      "Epoch 16/100\n",
      "147/147 [==============================] - 213s 1s/step - loss: 0.6934 - acc: 0.5000 - val_loss: 0.6932 - val_acc: 0.5000\n",
      "Epoch 17/100\n",
      "147/147 [==============================] - 213s 1s/step - loss: 0.6933 - acc: 0.5000 - val_loss: 0.6932 - val_acc: 0.5000\n",
      "Epoch 18/100\n",
      "147/147 [==============================] - 228s 2s/step - loss: 0.6933 - acc: 0.5000 - val_loss: 0.6931 - val_acc: 0.5000\n",
      "Epoch 19/100\n",
      "147/147 [==============================] - 228s 2s/step - loss: 0.6932 - acc: 0.5000 - val_loss: 0.6932 - val_acc: 0.5000\n",
      "Epoch 20/100\n",
      "147/147 [==============================] - 227s 2s/step - loss: 0.6932 - acc: 0.5000 - val_loss: 0.6931 - val_acc: 0.5000\n",
      "Epoch 21/100\n",
      "147/147 [==============================] - 227s 2s/step - loss: 0.6932 - acc: 0.5000 - val_loss: 0.6932 - val_acc: 0.5000\n",
      "Epoch 22/100\n",
      "147/147 [==============================] - 228s 2s/step - loss: 0.6932 - acc: 0.5000 - val_loss: 0.6931 - val_acc: 0.5000\n",
      "Epoch 23/100\n",
      "147/147 [==============================] - 227s 2s/step - loss: 0.6932 - acc: 0.5000 - val_loss: 0.6931 - val_acc: 0.5000\n",
      "Epoch 24/100\n",
      "147/147 [==============================] - 215s 1s/step - loss: 0.6932 - acc: 0.5000 - val_loss: 0.6932 - val_acc: 0.5000\n",
      "Epoch 25/100\n",
      "147/147 [==============================] - 214s 1s/step - loss: 0.6932 - acc: 0.5000 - val_loss: 0.6931 - val_acc: 0.5000\n",
      "Epoch 26/100\n",
      "147/147 [==============================] - 215s 1s/step - loss: 0.6932 - acc: 0.5000 - val_loss: 0.6931 - val_acc: 0.5000\n",
      "Epoch 27/100\n",
      "147/147 [==============================] - 213s 1s/step - loss: 0.6931 - acc: 0.5000 - val_loss: 0.6931 - val_acc: 0.5000\n",
      "Epoch 28/100\n",
      "147/147 [==============================] - 213s 1s/step - loss: 0.6931 - acc: 0.5000 - val_loss: 0.6931 - val_acc: 0.5000\n",
      "Epoch 29/100\n",
      "147/147 [==============================] - 214s 1s/step - loss: 0.6931 - acc: 0.5000 - val_loss: 0.6931 - val_acc: 0.5000\n",
      "Epoch 30/100\n",
      "147/147 [==============================] - 214s 1s/step - loss: 0.6931 - acc: 0.5000 - val_loss: 0.6931 - val_acc: 0.5000\n",
      "Epoch 31/100\n",
      "147/147 [==============================] - 213s 1s/step - loss: 0.6931 - acc: 0.5000 - val_loss: 0.6931 - val_acc: 0.5000\n",
      "Epoch 32/100\n",
      "147/147 [==============================] - 213s 1s/step - loss: 0.6931 - acc: 0.5000 - val_loss: 0.6931 - val_acc: 0.5000\n",
      "Epoch 33/100\n",
      "147/147 [==============================] - 213s 1s/step - loss: 0.6931 - acc: 0.5000 - val_loss: 0.6931 - val_acc: 0.5000\n",
      "Epoch 34/100\n",
      "147/147 [==============================] - 213s 1s/step - loss: 0.6931 - acc: 0.5000 - val_loss: 0.6931 - val_acc: 0.5000\n",
      "Epoch 35/100\n",
      "147/147 [==============================] - 214s 1s/step - loss: 0.6931 - acc: 0.5000 - val_loss: 0.6931 - val_acc: 0.5000\n",
      "Epoch 36/100\n",
      "147/147 [==============================] - 213s 1s/step - loss: 0.6931 - acc: 0.5000 - val_loss: 0.6931 - val_acc: 0.5000\n",
      "Epoch 37/100\n",
      "147/147 [==============================] - 213s 1s/step - loss: 0.6931 - acc: 0.5000 - val_loss: 0.6931 - val_acc: 0.5000\n",
      "Epoch 38/100\n",
      "147/147 [==============================] - 213s 1s/step - loss: 0.6931 - acc: 0.5000 - val_loss: 0.6931 - val_acc: 0.5000\n",
      "Epoch 39/100\n",
      "147/147 [==============================] - 213s 1s/step - loss: 0.6931 - acc: 0.5000 - val_loss: 0.6931 - val_acc: 0.5000\n",
      "Epoch 40/100\n",
      "147/147 [==============================] - 213s 1s/step - loss: 0.6931 - acc: 0.5000 - val_loss: 0.6931 - val_acc: 0.5000\n",
      "Epoch 41/100\n",
      "147/147 [==============================] - 213s 1s/step - loss: 0.6931 - acc: 0.5000 - val_loss: 0.6931 - val_acc: 0.5000\n",
      "Epoch 42/100\n",
      "147/147 [==============================] - 212s 1s/step - loss: 0.6931 - acc: 0.5000 - val_loss: 0.6931 - val_acc: 0.5000\n",
      "Epoch 43/100\n",
      "147/147 [==============================] - 213s 1s/step - loss: 0.6931 - acc: 0.5000 - val_loss: 0.6931 - val_acc: 0.5000\n",
      "Epoch 44/100\n",
      "147/147 [==============================] - 213s 1s/step - loss: 0.6931 - acc: 0.5000 - val_loss: 0.6931 - val_acc: 0.5000\n",
      "Epoch 45/100\n",
      "147/147 [==============================] - 212s 1s/step - loss: 0.6931 - acc: 0.5000 - val_loss: 0.6931 - val_acc: 0.5000\n",
      "Epoch 46/100\n",
      "147/147 [==============================] - 211s 1s/step - loss: 0.6931 - acc: 0.5000 - val_loss: 0.6931 - val_acc: 0.5000\n",
      "Epoch 47/100\n",
      "147/147 [==============================] - 211s 1s/step - loss: 0.6931 - acc: 0.5000 - val_loss: 0.6931 - val_acc: 0.5000\n",
      "Epoch 48/100\n",
      "147/147 [==============================] - 213s 1s/step - loss: 0.6931 - acc: 0.5000 - val_loss: 0.6931 - val_acc: 0.5000\n",
      "Epoch 49/100\n",
      "147/147 [==============================] - 212s 1s/step - loss: 0.6931 - acc: 0.5000 - val_loss: 0.6931 - val_acc: 0.5000\n",
      "Epoch 50/100\n",
      "147/147 [==============================] - 211s 1s/step - loss: 0.6931 - acc: 0.5000 - val_loss: 0.6931 - val_acc: 0.5000\n",
      "Epoch 51/100\n",
      "147/147 [==============================] - 212s 1s/step - loss: 0.6931 - acc: 0.5000 - val_loss: 0.6931 - val_acc: 0.5000\n",
      "Epoch 52/100\n",
      "147/147 [==============================] - 212s 1s/step - loss: 0.6931 - acc: 0.5000 - val_loss: 0.6931 - val_acc: 0.5000\n",
      "Epoch 53/100\n",
      "147/147 [==============================] - 213s 1s/step - loss: 0.6931 - acc: 0.5000 - val_loss: 0.6931 - val_acc: 0.5000\n",
      "Epoch 54/100\n",
      "147/147 [==============================] - 213s 1s/step - loss: 0.6931 - acc: 0.5000 - val_loss: 0.6931 - val_acc: 0.5000\n",
      "Epoch 55/100\n",
      "147/147 [==============================] - 213s 1s/step - loss: 0.6931 - acc: 0.5000 - val_loss: 0.6931 - val_acc: 0.5000\n",
      "Epoch 56/100\n",
      "147/147 [==============================] - 213s 1s/step - loss: 0.6931 - acc: 0.5000 - val_loss: 0.6931 - val_acc: 0.5000\n",
      "Epoch 57/100\n",
      "147/147 [==============================] - 213s 1s/step - loss: 0.6931 - acc: 0.5000 - val_loss: 0.6931 - val_acc: 0.5000\n",
      "Epoch 58/100\n",
      "147/147 [==============================] - 213s 1s/step - loss: 0.6931 - acc: 0.5000 - val_loss: 0.6931 - val_acc: 0.5000\n",
      "Epoch 59/100\n",
      "147/147 [==============================] - 213s 1s/step - loss: 0.6931 - acc: 0.5000 - val_loss: 0.6931 - val_acc: 0.5000\n",
      "Epoch 60/100\n",
      "147/147 [==============================] - 213s 1s/step - loss: 0.6931 - acc: 0.5000 - val_loss: 0.6931 - val_acc: 0.5000\n",
      "Epoch 61/100\n",
      "147/147 [==============================] - 213s 1s/step - loss: 0.6931 - acc: 0.5000 - val_loss: 0.6931 - val_acc: 0.5000\n"
     ]
    },
    {
     "name": "stdout",
     "output_type": "stream",
     "text": [
      "Epoch 62/100\n",
      "147/147 [==============================] - 213s 1s/step - loss: 0.6931 - acc: 0.5000 - val_loss: 0.6931 - val_acc: 0.5000\n",
      "Epoch 63/100\n",
      "147/147 [==============================] - 213s 1s/step - loss: 0.6931 - acc: 0.5000 - val_loss: 0.6931 - val_acc: 0.5000\n",
      "Epoch 64/100\n",
      "147/147 [==============================] - 213s 1s/step - loss: 0.6931 - acc: 0.5000 - val_loss: 0.6931 - val_acc: 0.5000\n",
      "Epoch 65/100\n",
      "147/147 [==============================] - 213s 1s/step - loss: 0.6931 - acc: 0.5000 - val_loss: 0.6931 - val_acc: 0.5000\n",
      "Epoch 66/100\n",
      "147/147 [==============================] - 213s 1s/step - loss: 0.6931 - acc: 0.5000 - val_loss: 0.6931 - val_acc: 0.5000\n",
      "Epoch 67/100\n",
      "147/147 [==============================] - 212s 1s/step - loss: 0.6931 - acc: 0.5000 - val_loss: 0.6931 - val_acc: 0.5000\n",
      "Epoch 68/100\n",
      "147/147 [==============================] - 212s 1s/step - loss: 0.6931 - acc: 0.5000 - val_loss: 0.6931 - val_acc: 0.5000\n",
      "Epoch 69/100\n",
      "147/147 [==============================] - 213s 1s/step - loss: 0.6931 - acc: 0.5000 - val_loss: 0.6931 - val_acc: 0.5000\n",
      "Epoch 70/100\n",
      "147/147 [==============================] - 213s 1s/step - loss: 0.6931 - acc: 0.5000 - val_loss: 0.6931 - val_acc: 0.5000\n",
      "Epoch 71/100\n",
      "147/147 [==============================] - 213s 1s/step - loss: 0.6931 - acc: 0.5000 - val_loss: 0.6931 - val_acc: 0.5000\n",
      "Epoch 72/100\n",
      "147/147 [==============================] - 213s 1s/step - loss: 0.6931 - acc: 0.5000 - val_loss: 0.6931 - val_acc: 0.5000\n",
      "Epoch 73/100\n",
      "147/147 [==============================] - 213s 1s/step - loss: 0.6931 - acc: 0.5000 - val_loss: 0.6931 - val_acc: 0.5000\n",
      "Epoch 74/100\n",
      "147/147 [==============================] - 213s 1s/step - loss: 0.6931 - acc: 0.5000 - val_loss: 0.6931 - val_acc: 0.5000\n",
      "Epoch 75/100\n",
      "147/147 [==============================] - 212s 1s/step - loss: 0.6931 - acc: 0.5000 - val_loss: 0.6931 - val_acc: 0.5000\n",
      "Epoch 76/100\n",
      "147/147 [==============================] - 212s 1s/step - loss: 0.6931 - acc: 0.5000 - val_loss: 0.6931 - val_acc: 0.5000\n",
      "Epoch 77/100\n",
      "147/147 [==============================] - 212s 1s/step - loss: 0.6931 - acc: 0.5000 - val_loss: 0.6931 - val_acc: 0.5000\n",
      "Epoch 78/100\n",
      "147/147 [==============================] - 214s 1s/step - loss: 0.6931 - acc: 0.5000 - val_loss: 0.6931 - val_acc: 0.5000\n",
      "Epoch 79/100\n",
      "147/147 [==============================] - 214s 1s/step - loss: 0.6931 - acc: 0.5000 - val_loss: 0.6931 - val_acc: 0.5000\n",
      "Epoch 80/100\n",
      "147/147 [==============================] - 214s 1s/step - loss: 0.6931 - acc: 0.5000 - val_loss: 0.6931 - val_acc: 0.5000\n",
      "Epoch 81/100\n",
      "147/147 [==============================] - 214s 1s/step - loss: 0.6931 - acc: 0.5000 - val_loss: 0.6931 - val_acc: 0.5000\n",
      "Epoch 82/100\n",
      "147/147 [==============================] - 214s 1s/step - loss: 0.6931 - acc: 0.5000 - val_loss: 0.6931 - val_acc: 0.5000\n",
      "Epoch 83/100\n",
      "147/147 [==============================] - 214s 1s/step - loss: 0.6931 - acc: 0.5000 - val_loss: 0.6931 - val_acc: 0.5000\n",
      "Epoch 84/100\n",
      "147/147 [==============================] - 212s 1s/step - loss: 0.6931 - acc: 0.5000 - val_loss: 0.6931 - val_acc: 0.5000\n",
      "Epoch 85/100\n",
      "147/147 [==============================] - 212s 1s/step - loss: 0.6931 - acc: 0.5000 - val_loss: 0.6931 - val_acc: 0.5000\n",
      "Epoch 86/100\n",
      "147/147 [==============================] - 212s 1s/step - loss: 0.6931 - acc: 0.5000 - val_loss: 0.6931 - val_acc: 0.5000\n",
      "Epoch 87/100\n",
      "147/147 [==============================] - 212s 1s/step - loss: 0.6931 - acc: 0.5000 - val_loss: 0.6931 - val_acc: 0.5000\n",
      "Epoch 88/100\n",
      "147/147 [==============================] - 212s 1s/step - loss: 0.6931 - acc: 0.5000 - val_loss: 0.6931 - val_acc: 0.5000\n",
      "Epoch 89/100\n",
      "147/147 [==============================] - 213s 1s/step - loss: 0.6931 - acc: 0.5000 - val_loss: 0.6931 - val_acc: 0.5000\n",
      "Epoch 90/100\n",
      "147/147 [==============================] - 212s 1s/step - loss: 0.6931 - acc: 0.5000 - val_loss: 0.6931 - val_acc: 0.5000\n",
      "Epoch 91/100\n",
      "147/147 [==============================] - 213s 1s/step - loss: 0.6931 - acc: 0.5000 - val_loss: 0.6931 - val_acc: 0.5000\n",
      "Epoch 92/100\n",
      "147/147 [==============================] - 213s 1s/step - loss: 0.6931 - acc: 0.5000 - val_loss: 0.6931 - val_acc: 0.5000\n",
      "Epoch 93/100\n",
      "147/147 [==============================] - 213s 1s/step - loss: 0.6931 - acc: 0.5000 - val_loss: 0.6931 - val_acc: 0.5000\n",
      "Epoch 94/100\n",
      "147/147 [==============================] - 215s 1s/step - loss: 0.6931 - acc: 0.5000 - val_loss: 0.6931 - val_acc: 0.5000\n",
      "Epoch 95/100\n",
      "147/147 [==============================] - 226s 2s/step - loss: 0.6931 - acc: 0.5000 - val_loss: 0.6931 - val_acc: 0.5000\n",
      "Epoch 96/100\n",
      "147/147 [==============================] - 228s 2s/step - loss: 0.6931 - acc: 0.5000 - val_loss: 0.6931 - val_acc: 0.5000\n",
      "Epoch 97/100\n",
      "147/147 [==============================] - 217s 1s/step - loss: 0.6931 - acc: 0.5000 - val_loss: 0.6931 - val_acc: 0.5000\n",
      "Epoch 98/100\n",
      "147/147 [==============================] - 217s 1s/step - loss: 0.6931 - acc: 0.5000 - val_loss: 0.6931 - val_acc: 0.5000\n",
      "Epoch 99/100\n",
      "147/147 [==============================] - 217s 1s/step - loss: 0.6931 - acc: 0.5000 - val_loss: 0.6931 - val_acc: 0.5000\n",
      "Epoch 100/100\n",
      "147/147 [==============================] - 217s 1s/step - loss: 0.6931 - acc: 0.5000 - val_loss: 0.6931 - val_acc: 0.5000\n"
     ]
    }
   ],
   "source": [
    "H = model2.fit(train_gen, epochs=100, validation_data = val_gen)"
   ]
  },
  {
   "cell_type": "code",
   "execution_count": 34,
   "metadata": {},
   "outputs": [
    {
     "data": {
      "image/png": "[encoded data removed]",
      "text/plain": [
       "<Figure size 432x288 with 1 Axes>"
      ]
     },
     "metadata": {},
     "output_type": "display_data"
    },
    {
     "data": {
      "image/png": "[encoded data removed]",
      "text/plain": [
       "<Figure size 432x288 with 1 Axes>"
      ]
     },
     "metadata": {},
     "output_type": "display_data"
    }
   ],
   "source": [
    "#Evaluasi model menggunakan grafik loss dan accuracy\n",
    "\n",
    "plt.style.use(\"ggplot\")\n",
    "\n",
    "plt.plot(np.arange(0, 100), H.history[\"loss\"], label=\"train_loss\")\n",
    "plt.plot(np.arange(0, 100), H.history[\"val_loss\"], label=\"val_loss\")\n",
    "plt.title(\"Loss Plot\")\n",
    "plt.xlabel(\"Epoch #\")\n",
    "plt.ylabel(\"Loss\")\n",
    "plt.show()\n",
    "\n",
    "plt.plot(np.arange(0, 100), H.history[\"acc\"], label=\"train_acc\")\n",
    "plt.plot(np.arange(0, 100), H.history[\"val_acc\"], label=\"val_acc\")\n",
    "plt.title(\"Accuracy Plot\")\n",
    "plt.xlabel(\"Epoch #\")\n",
    "plt.ylabel(\"Accuracy\")\n",
    "plt.legend()\n",
    "plt.show()"
   ]
  },
  {
   "cell_type": "code",
   "execution_count": 35,
   "metadata": {},
   "outputs": [
    {
     "name": "stdout",
     "output_type": "stream",
     "text": [
      "              precision    recall  f1-score   support\n",
      "\n",
      "           0       0.00      0.00      0.00        17\n",
      "           1       0.72      1.00      0.84        44\n",
      "\n",
      "    accuracy                           0.72        61\n",
      "   macro avg       0.36      0.50      0.42        61\n",
      "weighted avg       0.52      0.72      0.60        61\n",
      "\n"
     ]
    },
    {
     "name": "stderr",
     "output_type": "stream",
     "text": [
      "C:\\Users\\ROG\\anaconda3\\lib\\site-packages\\sklearn\\metrics\\_classification.py:1245: UndefinedMetricWarning: Precision and F-score are ill-defined and being set to 0.0 in labels with no predicted samples. Use `zero_division` parameter to control this behavior.\n",
      "  _warn_prf(average, modifier, msg_start, len(result))\n",
      "C:\\Users\\ROG\\anaconda3\\lib\\site-packages\\sklearn\\metrics\\_classification.py:1245: UndefinedMetricWarning: Precision and F-score are ill-defined and being set to 0.0 in labels with no predicted samples. Use `zero_division` parameter to control this behavior.\n",
      "  _warn_prf(average, modifier, msg_start, len(result))\n",
      "C:\\Users\\ROG\\anaconda3\\lib\\site-packages\\sklearn\\metrics\\_classification.py:1245: UndefinedMetricWarning: Precision and F-score are ill-defined and being set to 0.0 in labels with no predicted samples. Use `zero_division` parameter to control this behavior.\n",
      "  _warn_prf(average, modifier, msg_start, len(result))\n"
     ]
    }
   ],
   "source": [
    "from sklearn.metrics import classification_report\n",
    "\n",
    "pred = model2.predict(x_test)\n",
    "labels = (pred > 0.5).astype(np.int)\n",
    "\n",
    "print(classification_report(y_test, labels))"
   ]
  },
  {
   "cell_type": "code",
   "execution_count": 36,
   "metadata": {},
   "outputs": [
    {
     "name": "stdout",
     "output_type": "stream",
     "text": [
      "WARNING:tensorflow:Compiled the loaded model, but the compiled metrics have yet to be built. `model.compile_metrics` will be empty until you train or evaluate the model.\n"
     ]
    }
   ],
   "source": [
    "model2.save(\"model2.h5\")"
   ]
  },
  {
   "cell_type": "code",
   "execution_count": 4,
   "metadata": {},
   "outputs": [],
   "source": [
    "# TULIS KODE ANDA DISINI\n",
    "# Definisikan path untuk data train test dan validation sesuai dengan path\n",
    "\n",
    "import os\n",
    "base_dir = \"output\"\n",
    "train_path = os.path.join(base_dir, 'train')\n",
    "test_path  = os.path.join(base_dir, 'test')\n",
    "val_path   = os.path.join(base_dir, 'val')\n",
    "\n",
    "\n",
    "train_normal_dir = os.path.join(train_path, 'NORMAL')\n",
    "train_pneumonia_dir = os.path.join(train_path, 'PNEUMONIA')\n",
    "\n",
    "val_normal_dir = os.path.join(val_path, 'NORMAL')\n",
    "val_pneumonia_dir = os.path.join(val_path, 'PNEUMONIA')\n",
    "\n",
    "test_normal_dir = os.path.join(test_path, 'NORMAL')\n",
    "test_pneumonia_dir = os.path.join(test_path, 'PNEUMONIA')"
   ]
  },
  {
   "cell_type": "code",
   "execution_count": 47,
   "metadata": {},
   "outputs": [],
   "source": [
    "# TULIS KODE ANDA DISINI\n",
    "# Definisikan path untuk data train test dan validation sesuai dengan path\n",
    "\n",
    "import os\n",
    "\n",
    "train_dir = os.path.join('train')\n",
    "test_dir  = os.path.join('test')\n",
    "val_dir   = os.path.join('val')\n"
   ]
  },
  {
   "cell_type": "code",
   "execution_count": 5,
   "metadata": {},
   "outputs": [
    {
     "name": "stdout",
     "output_type": "stream",
     "text": [
      "Found 4684 images belonging to 2 classes.\n",
      "Found 1111 images belonging to 2 classes.\n",
      "Found 61 images belonging to 2 classes.\n"
     ]
    }
   ],
   "source": [
    "# TULIS KODE ANDA DISINI\n",
    "\n",
    "from keras.preprocessing.image import ImageDataGenerator\n",
    "from sklearn.utils import shuffle\n",
    "\n",
    "batch_size = 32\n",
    "augmen_gen = ImageDataGenerator(rescale=1. / 255,\n",
    "                                rotation_range=40,\n",
    "                                width_shift_range=0.2,\n",
    "                                height_shift_range=0.2,\n",
    "                                zoom_range=0.2,\n",
    "                                horizontal_flip=True,\n",
    "                                fill_mode='nearest')\n",
    "\n",
    "train_gen = augmen_gen.flow_from_directory(\n",
    "    train_path,\n",
    "    class_mode = 'binary',\n",
    "    shuffle=True,\n",
    "    target_size = (224,224),\n",
    "    batch_size=batch_size,\n",
    "    color_mode ='grayscale'\n",
    ")\n",
    "\n",
    "val_gen = augmen_gen.flow_from_directory(\n",
    "    val_path,\n",
    "    class_mode = 'binary',\n",
    "    shuffle=True,\n",
    "    target_size = (224,224),\n",
    "    batch_size= batch_size,\n",
    "    color_mode ='grayscale'\n",
    ")\n",
    "\n",
    "test_gen = augmen_gen.flow_from_directory(\n",
    "    test_path,\n",
    "    class_mode = 'binary',\n",
    "    shuffle=False,\n",
    "    target_size = (224,224),\n",
    "    batch_size=batch_size,\n",
    "    color_mode ='grayscale',\n",
    ")"
   ]
  },
  {
   "cell_type": "code",
   "execution_count": 6,
   "metadata": {},
   "outputs": [],
   "source": [
    "# TULIS KODE ANDA DISINI\n",
    "from tensorflow.keras.models import Sequential\n",
    "from tensorflow.keras.layers import InputLayer, Dense, Conv2D, MaxPool2D, Flatten, BatchNormalization, Dropout\n",
    "from tensorflow.keras.callbacks import ModelCheckpoint, ReduceLROnPlateau, EarlyStopping\n",
    "from tensorflow.keras.optimizers import Adam\n",
    "import time\n",
    "\n",
    "#Feature Selection\n",
    "model3 = Sequential()\n",
    "\n",
    "#Menerapkan proses Convolution\n",
    "#Menerapkan proses Pooling\n",
    "model3.add(InputLayer(input_shape=[224,224,1]))\n",
    "model3.add(Conv2D(filters=32, kernel_size=3, strides=1, padding='same', activation='relu'))\n",
    "model3.add(MaxPool2D(pool_size=2, padding='same'))\n",
    "model3.add(Conv2D(filters=64, kernel_size=3, strides=1, padding='same', activation='relu'))\n",
    "model3.add(MaxPool2D(pool_size=2, padding='same'))\n",
    "model3.add(Conv2D(filters=128, kernel_size=3, strides=1, padding='same', activation='relu'))\n",
    "model3.add(MaxPool2D(pool_size=2, padding='same'))\n",
    "\n",
    "#Menerapkan Dropout\n",
    "model3.add(Dropout(0.25))\n",
    "\n",
    "#Menerpakan BatchNormalization\n",
    "model3.add(BatchNormalization())\n",
    "model3.add(Flatten())\n",
    "\n",
    "#Fully Connected Layer\n",
    "model3.add(Dense(512, activation='relu'))\n",
    "model3.add(Dropout(0.3))\n",
    "model3.add(Dense(1, activation='sigmoid'))"
   ]
  },
  {
   "cell_type": "code",
   "execution_count": 7,
   "metadata": {},
   "outputs": [],
   "source": [
    "# Compile model\n",
    "from tensorflow.keras.optimizers import Adam\n",
    "\n",
    "\n",
    "model3.compile(optimizer=Adam(learning_rate=0.001), \n",
    "              loss='binary_crossentropy', \n",
    "              metrics=['acc'])"
   ]
  },
  {
   "cell_type": "code",
   "execution_count": 58,
   "metadata": {},
   "outputs": [
    {
     "name": "stdout",
     "output_type": "stream",
     "text": [
      "Requirement already satisfied: tensorflow-gpu in c:\\users\\rog\\appdata\\roaming\\python\\python38\\site-packages (2.5.0)\n",
      "Requirement already satisfied: wrapt~=1.12.1 in c:\\users\\rog\\appdata\\roaming\\python\\python38\\site-packages (from tensorflow-gpu) (1.12.1)\n",
      "Requirement already satisfied: tensorflow-estimator<2.6.0,>=2.5.0rc0 in c:\\users\\rog\\anaconda3\\lib\\site-packages (from tensorflow-gpu) (2.5.0)\n",
      "Requirement already satisfied: h5py~=3.1.0 in c:\\users\\rog\\appdata\\roaming\\python\\python38\\site-packages (from tensorflow-gpu) (3.1.0)\n",
      "Collecting grpcio~=1.34.0\n",
      "  Downloading grpcio-1.34.1-cp38-cp38-win_amd64.whl (2.9 MB)\n",
      "Requirement already satisfied: six~=1.15.0 in c:\\users\\rog\\appdata\\roaming\\python\\python38\\site-packages (from tensorflow-gpu) (1.15.0)\n",
      "Requirement already satisfied: absl-py~=0.10 in c:\\users\\rog\\appdata\\roaming\\python\\python38\\site-packages (from tensorflow-gpu) (0.12.0)\n",
      "Requirement already satisfied: gast==0.4.0 in c:\\users\\rog\\anaconda3\\lib\\site-packages (from tensorflow-gpu) (0.4.0)\n",
      "Requirement already satisfied: protobuf>=3.9.2 in c:\\users\\rog\\appdata\\roaming\\python\\python38\\site-packages (from tensorflow-gpu) (3.17.1)\n",
      "Requirement already satisfied: google-pasta~=0.2 in c:\\users\\rog\\appdata\\roaming\\python\\python38\\site-packages (from tensorflow-gpu) (0.2.0)\n",
      "Requirement already satisfied: termcolor~=1.1.0 in c:\\users\\rog\\anaconda3\\lib\\site-packages (from tensorflow-gpu) (1.1.0)\n",
      "Requirement already satisfied: keras-nightly~=2.5.0.dev in c:\\users\\rog\\appdata\\roaming\\python\\python38\\site-packages (from tensorflow-gpu) (2.5.0.dev2021032900)\n",
      "Requirement already satisfied: opt-einsum~=3.3.0 in c:\\users\\rog\\appdata\\roaming\\python\\python38\\site-packages (from tensorflow-gpu) (3.3.0)\n",
      "Requirement already satisfied: astunparse~=1.6.3 in c:\\users\\rog\\appdata\\roaming\\python\\python38\\site-packages (from tensorflow-gpu) (1.6.3)\n",
      "Requirement already satisfied: tensorboard~=2.5 in c:\\users\\rog\\appdata\\roaming\\python\\python38\\site-packages (from tensorflow-gpu) (2.5.0)\n",
      "Requirement already satisfied: numpy~=1.19.2 in c:\\users\\rog\\appdata\\roaming\\python\\python38\\site-packages (from tensorflow-gpu) (1.19.5)\n",
      "Requirement already satisfied: typing-extensions~=3.7.4 in c:\\users\\rog\\anaconda3\\lib\\site-packages (from tensorflow-gpu) (3.7.4.3)\n",
      "Requirement already satisfied: flatbuffers~=1.12.0 in c:\\users\\rog\\appdata\\roaming\\python\\python38\\site-packages (from tensorflow-gpu) (1.12)\n",
      "Requirement already satisfied: wheel~=0.35 in c:\\users\\rog\\anaconda3\\lib\\site-packages (from tensorflow-gpu) (0.36.2)\n",
      "Requirement already satisfied: keras-preprocessing~=1.1.2 in c:\\users\\rog\\appdata\\roaming\\python\\python38\\site-packages (from tensorflow-gpu) (1.1.2)\n",
      "Requirement already satisfied: google-auth-oauthlib<0.5,>=0.4.1 in c:\\users\\rog\\appdata\\roaming\\python\\python38\\site-packages (from tensorboard~=2.5->tensorflow-gpu) (0.4.4)\n",
      "Requirement already satisfied: tensorboard-data-server<0.7.0,>=0.6.0 in c:\\users\\rog\\appdata\\roaming\\python\\python38\\site-packages (from tensorboard~=2.5->tensorflow-gpu) (0.6.1)\n",
      "Requirement already satisfied: tensorboard-plugin-wit>=1.6.0 in c:\\users\\rog\\appdata\\roaming\\python\\python38\\site-packages (from tensorboard~=2.5->tensorflow-gpu) (1.8.0)\n",
      "Requirement already satisfied: requests<3,>=2.21.0 in c:\\users\\rog\\anaconda3\\lib\\site-packages (from tensorboard~=2.5->tensorflow-gpu) (2.25.1)\n",
      "Requirement already satisfied: werkzeug>=0.11.15 in c:\\users\\rog\\appdata\\roaming\\python\\python38\\site-packages (from tensorboard~=2.5->tensorflow-gpu) (2.0.1)\n",
      "Requirement already satisfied: setuptools>=41.0.0 in c:\\users\\rog\\anaconda3\\lib\\site-packages (from tensorboard~=2.5->tensorflow-gpu) (52.0.0.post20210125)\n",
      "Requirement already satisfied: markdown>=2.6.8 in c:\\users\\rog\\appdata\\roaming\\python\\python38\\site-packages (from tensorboard~=2.5->tensorflow-gpu) (3.3.4)\n",
      "Requirement already satisfied: google-auth<2,>=1.6.3 in c:\\users\\rog\\appdata\\roaming\\python\\python38\\site-packages (from tensorboard~=2.5->tensorflow-gpu) (1.30.1)\n",
      "Requirement already satisfied: rsa<5,>=3.1.4 in c:\\users\\rog\\appdata\\roaming\\python\\python38\\site-packages (from google-auth<2,>=1.6.3->tensorboard~=2.5->tensorflow-gpu) (4.7.2)\n",
      "Requirement already satisfied: pyasn1-modules>=0.2.1 in c:\\users\\rog\\appdata\\roaming\\python\\python38\\site-packages (from google-auth<2,>=1.6.3->tensorboard~=2.5->tensorflow-gpu) (0.2.8)\n",
      "Requirement already satisfied: cachetools<5.0,>=2.0.0 in c:\\users\\rog\\appdata\\roaming\\python\\python38\\site-packages (from google-auth<2,>=1.6.3->tensorboard~=2.5->tensorflow-gpu) (4.2.2)\n",
      "Requirement already satisfied: requests-oauthlib>=0.7.0 in c:\\users\\rog\\appdata\\roaming\\python\\python38\\site-packages (from google-auth-oauthlib<0.5,>=0.4.1->tensorboard~=2.5->tensorflow-gpu) (1.3.0)\n",
      "Requirement already satisfied: pyasn1<0.5.0,>=0.4.6 in c:\\users\\rog\\appdata\\roaming\\python\\python38\\site-packages (from pyasn1-modules>=0.2.1->google-auth<2,>=1.6.3->tensorboard~=2.5->tensorflow-gpu) (0.4.8)\n",
      "Requirement already satisfied: idna<3,>=2.5 in c:\\users\\rog\\anaconda3\\lib\\site-packages (from requests<3,>=2.21.0->tensorboard~=2.5->tensorflow-gpu) (2.10)\n",
      "Requirement already satisfied: chardet<5,>=3.0.2 in c:\\users\\rog\\anaconda3\\lib\\site-packages (from requests<3,>=2.21.0->tensorboard~=2.5->tensorflow-gpu) (4.0.0)\n",
      "Requirement already satisfied: certifi>=2017.4.17 in c:\\users\\rog\\anaconda3\\lib\\site-packages (from requests<3,>=2.21.0->tensorboard~=2.5->tensorflow-gpu) (2020.12.5)\n",
      "Requirement already satisfied: urllib3<1.27,>=1.21.1 in c:\\users\\rog\\anaconda3\\lib\\site-packages (from requests<3,>=2.21.0->tensorboard~=2.5->tensorflow-gpu) (1.26.4)\n",
      "Requirement already satisfied: oauthlib>=3.0.0 in c:\\users\\rog\\appdata\\roaming\\python\\python38\\site-packages (from requests-oauthlib>=0.7.0->google-auth-oauthlib<0.5,>=0.4.1->tensorboard~=2.5->tensorflow-gpu) (3.1.0)\n",
      "Installing collected packages: grpcio\n",
      "Successfully installed grpcio-1.34.1\n",
      "Note: you may need to restart the kernel to use updated packages.\n"
     ]
    }
   ],
   "source": [
    " pip install tensorflow-gpu"
   ]
  },
  {
   "cell_type": "code",
   "execution_count": null,
   "metadata": {},
   "outputs": [
    {
     "name": "stdout",
     "output_type": "stream",
     "text": [
      "Epoch 1/100\n",
      "147/147 [==============================] - 175s 1s/step - loss: 0.5220 - acc: 0.8094 - val_loss: 0.5610 - val_acc: 0.7327\n",
      "Epoch 2/100\n",
      "147/147 [==============================] - 175s 1s/step - loss: 0.3221 - acc: 0.8546 - val_loss: 0.3865 - val_acc: 0.7732\n",
      "Epoch 3/100\n",
      "134/147 [==========================>...] - ETA: 13s - loss: 0.3195 - acc: 0.8573"
     ]
    }
   ],
   "source": [
    "H3 = model3.fit(train_gen, epochs=100, validation_data = val_gen)"
   ]
  },
  {
   "cell_type": "code",
   "execution_count": null,
   "metadata": {},
   "outputs": [],
   "source": [
    "#Evaluasi model menggunakan grafik loss dan accuracy\n",
    "\n",
    "plt.style.use(\"ggplot\")\n",
    "\n",
    "plt.plot(np.arange(0, 100), H3.history[\"loss\"], label=\"train_loss\")\n",
    "plt.plot(np.arange(0, 100), H3.history[\"val_loss\"], label=\"val_loss\")\n",
    "plt.title(\"Loss Plot\")\n",
    "plt.xlabel(\"Epoch #\")\n",
    "plt.ylabel(\"Loss\")\n",
    "plt.show()\n",
    "\n",
    "plt.plot(np.arange(0, 100), H3.history[\"acc\"], label=\"train_acc\")\n",
    "plt.plot(np.arange(0, 100), H3.history[\"val_acc\"], label=\"val_acc\")\n",
    "plt.title(\"Accuracy Plot\")\n",
    "plt.xlabel(\"Epoch #\")\n",
    "plt.ylabel(\"Accuracy\")\n",
    "plt.legend()\n",
    "plt.show()"
   ]
  },
  {
   "cell_type": "code",
   "execution_count": null,
   "metadata": {},
   "outputs": [],
   "source": []
  }
 ],
 "metadata": {
  "accelerator": "GPU",
  "colab": {
   "collapsed_sections": [],
   "name": "Copy of Project_Kelompok_in_modul_3(model2).ipynb",
   "provenance": []
  },
  "kernelspec": {
   "display_name": "Python 3",
   "language": "python",
   "name": "python3"
  },
  "language_info": {
   "codemirror_mode": {
    "name": "ipython",
    "version": 3
   },
   "file_extension": ".py",
   "mimetype": "text/x-python",
   "name": "python",
   "nbconvert_exporter": "python",
   "pygments_lexer": "ipython3",
   "version": "3.8.8"
  }
 },
 "nbformat": 4,
 "nbformat_minor": 1
}
